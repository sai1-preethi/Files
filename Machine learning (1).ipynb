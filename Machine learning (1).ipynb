{
 "cells": [
  {
   "cell_type": "code",
   "execution_count": 1,
   "id": "b3d9ede0-5009-4c8c-a428-d9d92c718cb6",
   "metadata": {},
   "outputs": [],
   "source": [
    "import pandas as pd"
   ]
  },
  {
   "cell_type": "code",
   "execution_count": 2,
   "id": "5d52e2a8-ac79-4368-8917-5ba607e4dfb6",
   "metadata": {},
   "outputs": [
    {
     "data": {
      "text/plain": [
       "97"
      ]
     },
     "execution_count": 2,
     "metadata": {},
     "output_type": "execute_result"
    }
   ],
   "source": [
    "ord(\"a\")"
   ]
  },
  {
   "cell_type": "code",
   "execution_count": 3,
   "id": "688371c5-1168-443d-81f1-36609902ce18",
   "metadata": {},
   "outputs": [
    {
     "data": {
      "text/plain": [
       "'0b1100001'"
      ]
     },
     "execution_count": 3,
     "metadata": {},
     "output_type": "execute_result"
    }
   ],
   "source": [
    "bin(97)"
   ]
  },
  {
   "cell_type": "code",
   "execution_count": 12,
   "id": "20b46c8a-49ef-476d-8ee3-8d85e2bb33c8",
   "metadata": {},
   "outputs": [
    {
     "name": "stderr",
     "output_type": "stream",
     "text": [
      "ERROR: Could not find a version that satisfies the requirement encodings (from versions: none)\n",
      "\n",
      "[notice] A new release of pip is available: 24.2 -> 24.3.1\n",
      "[notice] To update, run: python.exe -m pip install --upgrade pip\n",
      "ERROR: No matching distribution found for encodings\n"
     ]
    }
   ],
   "source": [
    "!pip install encodings"
   ]
  },
  {
   "cell_type": "code",
   "execution_count": 13,
   "id": "73340b7a-f3a3-4061-a0b3-99a568e899c9",
   "metadata": {},
   "outputs": [],
   "source": [
    "import encodings"
   ]
  },
  {
   "cell_type": "code",
   "execution_count": 31,
   "id": "5d241ffd-d806-4112-80a9-e9d3da959eab",
   "metadata": {},
   "outputs": [],
   "source": [
    "l=encodings.aliases.aliases.keys() \n",
    "# encodings.aliases.aliases return # dict # keys are acting as encodings"
   ]
  },
  {
   "cell_type": "code",
   "execution_count": 32,
   "id": "cfe535d0-806c-4461-a887-45fc2c28547c",
   "metadata": {},
   "outputs": [
    {
     "data": {
      "text/plain": [
       "326"
      ]
     },
     "execution_count": 32,
     "metadata": {},
     "output_type": "execute_result"
    }
   ],
   "source": [
    "len(l)"
   ]
  },
  {
   "cell_type": "code",
   "execution_count": 26,
   "id": "6e39acc3-739d-457d-95a2-0aadab4ced30",
   "metadata": {},
   "outputs": [],
   "source": [
    "l1=[\"utf-8\",\"latin\",\"utf-16\"]"
   ]
  },
  {
   "cell_type": "code",
   "execution_count": 36,
   "id": "1d3c55e3-ff26-414e-98fe-c2ca426e41b6",
   "metadata": {},
   "outputs": [
    {
     "data": {
      "text/html": [
       "<div>\n",
       "<style scoped>\n",
       "    .dataframe tbody tr th:only-of-type {\n",
       "        vertical-align: middle;\n",
       "    }\n",
       "\n",
       "    .dataframe tbody tr th {\n",
       "        vertical-align: top;\n",
       "    }\n",
       "\n",
       "    .dataframe thead th {\n",
       "        text-align: right;\n",
       "    }\n",
       "</style>\n",
       "<table border=\"1\" class=\"dataframe\">\n",
       "  <thead>\n",
       "    <tr style=\"text-align: right;\">\n",
       "      <th></th>\n",
       "      <th>v1</th>\n",
       "      <th>v2</th>\n",
       "      <th>Unnamed: 2</th>\n",
       "      <th>Unnamed: 3</th>\n",
       "      <th>Unnamed: 4</th>\n",
       "    </tr>\n",
       "  </thead>\n",
       "  <tbody>\n",
       "    <tr>\n",
       "      <th>0</th>\n",
       "      <td>ham</td>\n",
       "      <td>Go until jurong point, crazy.. Available only ...</td>\n",
       "      <td>NaN</td>\n",
       "      <td>NaN</td>\n",
       "      <td>NaN</td>\n",
       "    </tr>\n",
       "    <tr>\n",
       "      <th>1</th>\n",
       "      <td>ham</td>\n",
       "      <td>Ok lar... Joking wif u oni...</td>\n",
       "      <td>NaN</td>\n",
       "      <td>NaN</td>\n",
       "      <td>NaN</td>\n",
       "    </tr>\n",
       "    <tr>\n",
       "      <th>2</th>\n",
       "      <td>spam</td>\n",
       "      <td>Free entry in 2 a wkly comp to win FA Cup fina...</td>\n",
       "      <td>NaN</td>\n",
       "      <td>NaN</td>\n",
       "      <td>NaN</td>\n",
       "    </tr>\n",
       "    <tr>\n",
       "      <th>3</th>\n",
       "      <td>ham</td>\n",
       "      <td>U dun say so early hor... U c already then say...</td>\n",
       "      <td>NaN</td>\n",
       "      <td>NaN</td>\n",
       "      <td>NaN</td>\n",
       "    </tr>\n",
       "    <tr>\n",
       "      <th>4</th>\n",
       "      <td>ham</td>\n",
       "      <td>Nah I don't think he goes to usf, he lives aro...</td>\n",
       "      <td>NaN</td>\n",
       "      <td>NaN</td>\n",
       "      <td>NaN</td>\n",
       "    </tr>\n",
       "    <tr>\n",
       "      <th>...</th>\n",
       "      <td>...</td>\n",
       "      <td>...</td>\n",
       "      <td>...</td>\n",
       "      <td>...</td>\n",
       "      <td>...</td>\n",
       "    </tr>\n",
       "    <tr>\n",
       "      <th>5567</th>\n",
       "      <td>spam</td>\n",
       "      <td>This is the 2nd time we have tried 2 contact u...</td>\n",
       "      <td>NaN</td>\n",
       "      <td>NaN</td>\n",
       "      <td>NaN</td>\n",
       "    </tr>\n",
       "    <tr>\n",
       "      <th>5568</th>\n",
       "      <td>ham</td>\n",
       "      <td>Will Ì_ b going to esplanade fr home?</td>\n",
       "      <td>NaN</td>\n",
       "      <td>NaN</td>\n",
       "      <td>NaN</td>\n",
       "    </tr>\n",
       "    <tr>\n",
       "      <th>5569</th>\n",
       "      <td>ham</td>\n",
       "      <td>Pity, * was in mood for that. So...any other s...</td>\n",
       "      <td>NaN</td>\n",
       "      <td>NaN</td>\n",
       "      <td>NaN</td>\n",
       "    </tr>\n",
       "    <tr>\n",
       "      <th>5570</th>\n",
       "      <td>ham</td>\n",
       "      <td>The guy did some bitching but I acted like i'd...</td>\n",
       "      <td>NaN</td>\n",
       "      <td>NaN</td>\n",
       "      <td>NaN</td>\n",
       "    </tr>\n",
       "    <tr>\n",
       "      <th>5571</th>\n",
       "      <td>ham</td>\n",
       "      <td>Rofl. Its true to its name</td>\n",
       "      <td>NaN</td>\n",
       "      <td>NaN</td>\n",
       "      <td>NaN</td>\n",
       "    </tr>\n",
       "  </tbody>\n",
       "</table>\n",
       "<p>5572 rows × 5 columns</p>\n",
       "</div>"
      ],
      "text/plain": [
       "        v1                                                 v2 Unnamed: 2  \\\n",
       "0      ham  Go until jurong point, crazy.. Available only ...        NaN   \n",
       "1      ham                      Ok lar... Joking wif u oni...        NaN   \n",
       "2     spam  Free entry in 2 a wkly comp to win FA Cup fina...        NaN   \n",
       "3      ham  U dun say so early hor... U c already then say...        NaN   \n",
       "4      ham  Nah I don't think he goes to usf, he lives aro...        NaN   \n",
       "...    ...                                                ...        ...   \n",
       "5567  spam  This is the 2nd time we have tried 2 contact u...        NaN   \n",
       "5568   ham              Will Ì_ b going to esplanade fr home?        NaN   \n",
       "5569   ham  Pity, * was in mood for that. So...any other s...        NaN   \n",
       "5570   ham  The guy did some bitching but I acted like i'd...        NaN   \n",
       "5571   ham                         Rofl. Its true to its name        NaN   \n",
       "\n",
       "     Unnamed: 3 Unnamed: 4  \n",
       "0           NaN        NaN  \n",
       "1           NaN        NaN  \n",
       "2           NaN        NaN  \n",
       "3           NaN        NaN  \n",
       "4           NaN        NaN  \n",
       "...         ...        ...  \n",
       "5567        NaN        NaN  \n",
       "5568        NaN        NaN  \n",
       "5569        NaN        NaN  \n",
       "5570        NaN        NaN  \n",
       "5571        NaN        NaN  \n",
       "\n",
       "[5572 rows x 5 columns]"
      ]
     },
     "execution_count": 36,
     "metadata": {},
     "output_type": "execute_result"
    }
   ],
   "source": [
    "pd.read_csv(r\"C:\\Users\\Lenovo\\Downloads\\spam.csv\",encoding=\"latin\",on_bad_lines=\"skip\")"
   ]
  },
  {
   "cell_type": "code",
   "execution_count": null,
   "id": "dbfada86-599a-4bfc-b328-c4499ca655f4",
   "metadata": {},
   "outputs": [],
   "source": [
    "# look up"
   ]
  },
  {
   "cell_type": "code",
   "execution_count": 40,
   "id": "9259a383-3da7-419f-b648-d04ccb959df6",
   "metadata": {},
   "outputs": [
    {
     "name": "stdout",
     "output_type": "stream",
     "text": [
      "646 is not encoding\n",
      "ansi_x3.4_1968 is not encoding\n",
      "ansi_x3_4_1968 is not encoding\n",
      "ansi_x3.4_1986 is not encoding\n",
      "cp367 is not encoding\n",
      "csascii is not encoding\n",
      "ibm367 is not encoding\n",
      "iso646_us is not encoding\n",
      "iso_646.irv_1991 is not encoding\n",
      "iso_ir_6 is not encoding\n",
      "us is not encoding\n",
      "us_ascii is not encoding\n",
      "base64 is not supported\n",
      "base_64 is not supported\n",
      "big5_tw is not encoding\n",
      "csbig5 is not encoding\n",
      "big5_hkscs is not encoding\n",
      "hkscs is not encoding\n",
      "bz2 is not supported\n"
     ]
    },
    {
     "ename": "ParserError",
     "evalue": "Error tokenizing data. C error: Expected 1 fields in line 3, saw 3\n",
     "output_type": "error",
     "traceback": [
      "\u001b[1;31m---------------------------------------------------------------------------\u001b[0m",
      "\u001b[1;31mParserError\u001b[0m                               Traceback (most recent call last)",
      "Cell \u001b[1;32mIn[40], line 3\u001b[0m\n\u001b[0;32m      1\u001b[0m \u001b[38;5;28;01mfor\u001b[39;00m y \u001b[38;5;129;01min\u001b[39;00m l:\n\u001b[0;32m      2\u001b[0m     \u001b[38;5;28;01mtry\u001b[39;00m:\n\u001b[1;32m----> 3\u001b[0m         \u001b[43mpd\u001b[49m\u001b[38;5;241;43m.\u001b[39;49m\u001b[43mread_csv\u001b[49m\u001b[43m(\u001b[49m\u001b[38;5;124;43mr\u001b[39;49m\u001b[38;5;124;43m\"\u001b[39;49m\u001b[38;5;124;43mC:\u001b[39;49m\u001b[38;5;124;43m\\\u001b[39;49m\u001b[38;5;124;43mUsers\u001b[39;49m\u001b[38;5;124;43m\\\u001b[39;49m\u001b[38;5;124;43mLenovo\u001b[39;49m\u001b[38;5;124;43m\\\u001b[39;49m\u001b[38;5;124;43mDownloads\u001b[39;49m\u001b[38;5;124;43m\\\u001b[39;49m\u001b[38;5;124;43mspam.csv\u001b[39;49m\u001b[38;5;124;43m\"\u001b[39;49m\u001b[43m,\u001b[49m\u001b[43mencoding\u001b[49m\u001b[38;5;241;43m=\u001b[39;49m\u001b[43my\u001b[49m\u001b[43m)\u001b[49m\n\u001b[0;32m      4\u001b[0m         \u001b[38;5;28mprint\u001b[39m(\u001b[38;5;124m\"\u001b[39m\u001b[38;5;132;01m{}\u001b[39;00m\u001b[38;5;124m is correct encoding\u001b[39m\u001b[38;5;124m\"\u001b[39m\u001b[38;5;241m.\u001b[39mformat(y))\n\u001b[0;32m      5\u001b[0m     \u001b[38;5;28;01mexcept\u001b[39;00m \u001b[38;5;167;01mUnicodeDecodeError\u001b[39;00m:\n",
      "File \u001b[1;32m~\\AppData\\Local\\Programs\\Python\\Python312\\Lib\\site-packages\\pandas\\io\\parsers\\readers.py:1026\u001b[0m, in \u001b[0;36mread_csv\u001b[1;34m(filepath_or_buffer, sep, delimiter, header, names, index_col, usecols, dtype, engine, converters, true_values, false_values, skipinitialspace, skiprows, skipfooter, nrows, na_values, keep_default_na, na_filter, verbose, skip_blank_lines, parse_dates, infer_datetime_format, keep_date_col, date_parser, date_format, dayfirst, cache_dates, iterator, chunksize, compression, thousands, decimal, lineterminator, quotechar, quoting, doublequote, escapechar, comment, encoding, encoding_errors, dialect, on_bad_lines, delim_whitespace, low_memory, memory_map, float_precision, storage_options, dtype_backend)\u001b[0m\n\u001b[0;32m   1013\u001b[0m kwds_defaults \u001b[38;5;241m=\u001b[39m _refine_defaults_read(\n\u001b[0;32m   1014\u001b[0m     dialect,\n\u001b[0;32m   1015\u001b[0m     delimiter,\n\u001b[1;32m   (...)\u001b[0m\n\u001b[0;32m   1022\u001b[0m     dtype_backend\u001b[38;5;241m=\u001b[39mdtype_backend,\n\u001b[0;32m   1023\u001b[0m )\n\u001b[0;32m   1024\u001b[0m kwds\u001b[38;5;241m.\u001b[39mupdate(kwds_defaults)\n\u001b[1;32m-> 1026\u001b[0m \u001b[38;5;28;01mreturn\u001b[39;00m \u001b[43m_read\u001b[49m\u001b[43m(\u001b[49m\u001b[43mfilepath_or_buffer\u001b[49m\u001b[43m,\u001b[49m\u001b[43m \u001b[49m\u001b[43mkwds\u001b[49m\u001b[43m)\u001b[49m\n",
      "File \u001b[1;32m~\\AppData\\Local\\Programs\\Python\\Python312\\Lib\\site-packages\\pandas\\io\\parsers\\readers.py:626\u001b[0m, in \u001b[0;36m_read\u001b[1;34m(filepath_or_buffer, kwds)\u001b[0m\n\u001b[0;32m    623\u001b[0m     \u001b[38;5;28;01mreturn\u001b[39;00m parser\n\u001b[0;32m    625\u001b[0m \u001b[38;5;28;01mwith\u001b[39;00m parser:\n\u001b[1;32m--> 626\u001b[0m     \u001b[38;5;28;01mreturn\u001b[39;00m \u001b[43mparser\u001b[49m\u001b[38;5;241;43m.\u001b[39;49m\u001b[43mread\u001b[49m\u001b[43m(\u001b[49m\u001b[43mnrows\u001b[49m\u001b[43m)\u001b[49m\n",
      "File \u001b[1;32m~\\AppData\\Local\\Programs\\Python\\Python312\\Lib\\site-packages\\pandas\\io\\parsers\\readers.py:1923\u001b[0m, in \u001b[0;36mTextFileReader.read\u001b[1;34m(self, nrows)\u001b[0m\n\u001b[0;32m   1916\u001b[0m nrows \u001b[38;5;241m=\u001b[39m validate_integer(\u001b[38;5;124m\"\u001b[39m\u001b[38;5;124mnrows\u001b[39m\u001b[38;5;124m\"\u001b[39m, nrows)\n\u001b[0;32m   1917\u001b[0m \u001b[38;5;28;01mtry\u001b[39;00m:\n\u001b[0;32m   1918\u001b[0m     \u001b[38;5;66;03m# error: \"ParserBase\" has no attribute \"read\"\u001b[39;00m\n\u001b[0;32m   1919\u001b[0m     (\n\u001b[0;32m   1920\u001b[0m         index,\n\u001b[0;32m   1921\u001b[0m         columns,\n\u001b[0;32m   1922\u001b[0m         col_dict,\n\u001b[1;32m-> 1923\u001b[0m     ) \u001b[38;5;241m=\u001b[39m \u001b[38;5;28;43mself\u001b[39;49m\u001b[38;5;241;43m.\u001b[39;49m\u001b[43m_engine\u001b[49m\u001b[38;5;241;43m.\u001b[39;49m\u001b[43mread\u001b[49m\u001b[43m(\u001b[49m\u001b[43m  \u001b[49m\u001b[38;5;66;43;03m# type: ignore[attr-defined]\u001b[39;49;00m\n\u001b[0;32m   1924\u001b[0m \u001b[43m        \u001b[49m\u001b[43mnrows\u001b[49m\n\u001b[0;32m   1925\u001b[0m \u001b[43m    \u001b[49m\u001b[43m)\u001b[49m\n\u001b[0;32m   1926\u001b[0m \u001b[38;5;28;01mexcept\u001b[39;00m \u001b[38;5;167;01mException\u001b[39;00m:\n\u001b[0;32m   1927\u001b[0m     \u001b[38;5;28mself\u001b[39m\u001b[38;5;241m.\u001b[39mclose()\n",
      "File \u001b[1;32m~\\AppData\\Local\\Programs\\Python\\Python312\\Lib\\site-packages\\pandas\\io\\parsers\\c_parser_wrapper.py:234\u001b[0m, in \u001b[0;36mCParserWrapper.read\u001b[1;34m(self, nrows)\u001b[0m\n\u001b[0;32m    232\u001b[0m \u001b[38;5;28;01mtry\u001b[39;00m:\n\u001b[0;32m    233\u001b[0m     \u001b[38;5;28;01mif\u001b[39;00m \u001b[38;5;28mself\u001b[39m\u001b[38;5;241m.\u001b[39mlow_memory:\n\u001b[1;32m--> 234\u001b[0m         chunks \u001b[38;5;241m=\u001b[39m \u001b[38;5;28;43mself\u001b[39;49m\u001b[38;5;241;43m.\u001b[39;49m\u001b[43m_reader\u001b[49m\u001b[38;5;241;43m.\u001b[39;49m\u001b[43mread_low_memory\u001b[49m\u001b[43m(\u001b[49m\u001b[43mnrows\u001b[49m\u001b[43m)\u001b[49m\n\u001b[0;32m    235\u001b[0m         \u001b[38;5;66;03m# destructive to chunks\u001b[39;00m\n\u001b[0;32m    236\u001b[0m         data \u001b[38;5;241m=\u001b[39m _concatenate_chunks(chunks)\n",
      "File \u001b[1;32mparsers.pyx:838\u001b[0m, in \u001b[0;36mpandas._libs.parsers.TextReader.read_low_memory\u001b[1;34m()\u001b[0m\n",
      "File \u001b[1;32mparsers.pyx:905\u001b[0m, in \u001b[0;36mpandas._libs.parsers.TextReader._read_rows\u001b[1;34m()\u001b[0m\n",
      "File \u001b[1;32mparsers.pyx:874\u001b[0m, in \u001b[0;36mpandas._libs.parsers.TextReader._tokenize_rows\u001b[1;34m()\u001b[0m\n",
      "File \u001b[1;32mparsers.pyx:891\u001b[0m, in \u001b[0;36mpandas._libs.parsers.TextReader._check_tokenize_status\u001b[1;34m()\u001b[0m\n",
      "File \u001b[1;32mparsers.pyx:2061\u001b[0m, in \u001b[0;36mpandas._libs.parsers.raise_parser_error\u001b[1;34m()\u001b[0m\n",
      "\u001b[1;31mParserError\u001b[0m: Error tokenizing data. C error: Expected 1 fields in line 3, saw 3\n"
     ]
    }
   ],
   "source": [
    "for y in l:\n",
    "    try:\n",
    "        pd.read_csv(r\"C:\\Users\\Lenovo\\Downloads\\spam.csv\",encoding=y)\n",
    "        print(\"{} is correct encoding\".format(y))\n",
    "    except UnicodeDecodeError:\n",
    "        print(\"{} is not encoding\".format(y))\n",
    "    except LookupError:\n",
    "        print(\"{} is not supported\".format(y))\n",
    "        l1.append(y)"
   ]
  },
  {
   "cell_type": "code",
   "execution_count": 39,
   "id": "8fc270a9-8d7a-4184-be60-1e25d928013f",
   "metadata": {},
   "outputs": [
    {
     "data": {
      "text/plain": [
       "dict_keys(['646', 'ansi_x3.4_1968', 'ansi_x3_4_1968', 'ansi_x3.4_1986', 'cp367', 'csascii', 'ibm367', 'iso646_us', 'iso_646.irv_1991', 'iso_ir_6', 'us', 'us_ascii', 'base64', 'base_64', 'big5_tw', 'csbig5', 'big5_hkscs', 'hkscs', 'bz2', '037', 'csibm037', 'ebcdic_cp_ca', 'ebcdic_cp_nl', 'ebcdic_cp_us', 'ebcdic_cp_wt', 'ibm037', 'ibm039', '1026', 'csibm1026', 'ibm1026', '1125', 'ibm1125', 'cp866u', 'ruscii', '1140', 'ibm1140', '1250', 'windows_1250', '1251', 'windows_1251', '1252', 'windows_1252', '1253', 'windows_1253', '1254', 'windows_1254', '1255', 'windows_1255', '1256', 'windows_1256', '1257', 'windows_1257', '1258', 'windows_1258', '273', 'ibm273', 'csibm273', '424', 'csibm424', 'ebcdic_cp_he', 'ibm424', '437', 'cspc8codepage437', 'ibm437', '500', 'csibm500', 'ebcdic_cp_be', 'ebcdic_cp_ch', 'ibm500', '775', 'cspc775baltic', 'ibm775', '850', 'cspc850multilingual', 'ibm850', '852', 'cspcp852', 'ibm852', '855', 'csibm855', 'ibm855', '857', 'csibm857', 'ibm857', '858', 'csibm858', 'ibm858', '860', 'csibm860', 'ibm860', '861', 'cp_is', 'csibm861', 'ibm861', '862', 'cspc862latinhebrew', 'ibm862', '863', 'csibm863', 'ibm863', '864', 'csibm864', 'ibm864', '865', 'csibm865', 'ibm865', '866', 'csibm866', 'ibm866', '869', 'cp_gr', 'csibm869', 'ibm869', '932', 'ms932', 'mskanji', 'ms_kanji', '949', 'ms949', 'uhc', '950', 'ms950', 'jisx0213', 'eucjis2004', 'euc_jis2004', 'eucjisx0213', 'eucjp', 'ujis', 'u_jis', 'euckr', 'korean', 'ksc5601', 'ks_c_5601', 'ks_c_5601_1987', 'ksx1001', 'ks_x_1001', 'gb18030_2000', 'chinese', 'csiso58gb231280', 'euc_cn', 'euccn', 'eucgb2312_cn', 'gb2312_1980', 'gb2312_80', 'iso_ir_58', '936', 'cp936', 'ms936', 'hex', 'roman8', 'r8', 'csHPRoman8', 'cp1051', 'ibm1051', 'hzgb', 'hz_gb', 'hz_gb_2312', 'csiso2022jp', 'iso2022jp', 'iso_2022_jp', 'iso2022jp_1', 'iso_2022_jp_1', 'iso2022jp_2', 'iso_2022_jp_2', 'iso_2022_jp_2004', 'iso2022jp_2004', 'iso2022jp_3', 'iso_2022_jp_3', 'iso2022jp_ext', 'iso_2022_jp_ext', 'csiso2022kr', 'iso2022kr', 'iso_2022_kr', 'csisolatin6', 'iso_8859_10', 'iso_8859_10_1992', 'iso_ir_157', 'l6', 'latin6', 'thai', 'iso_8859_11', 'iso_8859_11_2001', 'iso_8859_13', 'l7', 'latin7', 'iso_8859_14', 'iso_8859_14_1998', 'iso_celtic', 'iso_ir_199', 'l8', 'latin8', 'iso_8859_15', 'l9', 'latin9', 'iso_8859_16', 'iso_8859_16_2001', 'iso_ir_226', 'l10', 'latin10', 'csisolatin2', 'iso_8859_2', 'iso_8859_2_1987', 'iso_ir_101', 'l2', 'latin2', 'csisolatin3', 'iso_8859_3', 'iso_8859_3_1988', 'iso_ir_109', 'l3', 'latin3', 'csisolatin4', 'iso_8859_4', 'iso_8859_4_1988', 'iso_ir_110', 'l4', 'latin4', 'csisolatincyrillic', 'cyrillic', 'iso_8859_5', 'iso_8859_5_1988', 'iso_ir_144', 'arabic', 'asmo_708', 'csisolatinarabic', 'ecma_114', 'iso_8859_6', 'iso_8859_6_1987', 'iso_ir_127', 'csisolatingreek', 'ecma_118', 'elot_928', 'greek', 'greek8', 'iso_8859_7', 'iso_8859_7_1987', 'iso_ir_126', 'csisolatinhebrew', 'hebrew', 'iso_8859_8', 'iso_8859_8_1988', 'iso_ir_138', 'csisolatin5', 'iso_8859_9', 'iso_8859_9_1989', 'iso_ir_148', 'l5', 'latin5', 'cp1361', 'ms1361', 'cskoi8r', 'kz_1048', 'rk1048', 'strk1048_2002', '8859', 'cp819', 'csisolatin1', 'ibm819', 'iso8859', 'iso8859_1', 'iso_8859_1', 'iso_8859_1_1987', 'iso_ir_100', 'l1', 'latin', 'latin1', 'maccyrillic', 'macgreek', 'maciceland', 'maccentraleurope', 'mac_centeuro', 'maclatin2', 'macintosh', 'macroman', 'macturkish', 'ansi', 'dbcs', 'csptcp154', 'pt154', 'cp154', 'cyrillic_asian', 'quopri', 'quoted_printable', 'quotedprintable', 'rot13', 'csshiftjis', 'shiftjis', 'sjis', 's_jis', 'shiftjis2004', 'sjis_2004', 's_jis_2004', 'shiftjisx0213', 'sjisx0213', 's_jisx0213', 'tis620', 'tis_620_0', 'tis_620_2529_0', 'tis_620_2529_1', 'iso_ir_166', 'u16', 'utf16', 'unicodebigunmarked', 'utf_16be', 'unicodelittleunmarked', 'utf_16le', 'u32', 'utf32', 'utf_32be', 'utf_32le', 'u7', 'utf7', 'unicode_1_1_utf_7', 'u8', 'utf', 'utf8', 'utf8_ucs2', 'utf8_ucs4', 'cp65001', 'uu', 'zip', 'zlib', 'x_mac_japanese', 'x_mac_korean', 'x_mac_simp_chinese', 'x_mac_trad_chinese'])"
      ]
     },
     "execution_count": 39,
     "metadata": {},
     "output_type": "execute_result"
    }
   ],
   "source": [
    "l"
   ]
  },
  {
   "cell_type": "code",
   "execution_count": 43,
   "id": "e47cc81a-68c6-4647-b0fc-0613fc8bf569",
   "metadata": {},
   "outputs": [],
   "source": [
    "data=pd.read_csv(r\"C:\\Users\\Lenovo\\Downloads\\spam.csv\",encoding=\"latin\")"
   ]
  },
  {
   "cell_type": "code",
   "execution_count": 44,
   "id": "4af625a6-463e-4b0c-94df-ff6a24daf535",
   "metadata": {},
   "outputs": [
    {
     "data": {
      "text/plain": [
       "(5572, 5)"
      ]
     },
     "execution_count": 44,
     "metadata": {},
     "output_type": "execute_result"
    }
   ],
   "source": [
    "data.shape"
   ]
  },
  {
   "cell_type": "code",
   "execution_count": 49,
   "id": "4d77925e-7997-4740-bc02-5d6791a6d7aa",
   "metadata": {},
   "outputs": [
    {
     "name": "stdout",
     "output_type": "stream",
     "text": [
      "    v1                                                 v2 Unnamed: 2  \\\n",
      "0  ham  Go until jurong point, crazy.. Available only ...        NaN   \n",
      "1  ham                      Ok lar... Joking wif u oni...        NaN   \n",
      "\n",
      "  Unnamed: 3  Unnamed: 4  \n",
      "0        NaN         NaN  \n",
      "1        NaN         NaN  \n",
      "**************************************************\n",
      "      v1                                                 v2  Unnamed: 2  \\\n",
      "100  ham  Okay name ur price as long as its legal! Wen c...         NaN   \n",
      "101  ham  I'm still looking for a car to buy. And have n...         NaN   \n",
      "\n",
      "     Unnamed: 3  Unnamed: 4  \n",
      "100         NaN         NaN  \n",
      "101         NaN         NaN  \n",
      "**************************************************\n",
      "      v1                                                 v2 Unnamed: 2  \\\n",
      "200  ham                       I sent you  &lt;#&gt;  bucks        NaN   \n",
      "201  ham  Hello darlin ive finished college now so txt m...        NaN   \n",
      "\n",
      "    Unnamed: 3 Unnamed: 4  \n",
      "200        NaN        NaN  \n",
      "201        NaN        NaN  \n",
      "**************************************************\n",
      "      v1                                                 v2  Unnamed: 2  \\\n",
      "300  ham  Awesome, I remember the last time we got someb...         NaN   \n",
      "301  ham  Shit that is really shocking and scary, cant i...         NaN   \n",
      "\n",
      "     Unnamed: 3  Unnamed: 4  \n",
      "300         NaN         NaN  \n",
      "301         NaN         NaN  \n",
      "**************************************************\n",
      "       v1                                                 v2 Unnamed: 2  \\\n",
      "400  spam  FREE RINGTONE text FIRST to 87131 for a poly o...        NaN   \n",
      "401   ham            Dear how is chechi. Did you talk to her        NaN   \n",
      "\n",
      "     Unnamed: 3  Unnamed: 4  \n",
      "400         NaN         NaN  \n",
      "401         NaN         NaN  \n",
      "**************************************************\n",
      "      v1                                                 v2  Unnamed: 2  \\\n",
      "500  ham  Fighting with the world is easy, u either win ...         NaN   \n",
      "501  ham                              When can Ì_ come out?         NaN   \n",
      "\n",
      "     Unnamed: 3  Unnamed: 4  \n",
      "500         NaN         NaN  \n",
      "501         NaN         NaN  \n",
      "**************************************************\n",
      "      v1                                                 v2 Unnamed: 2  \\\n",
      "600  ham  Mind blastin.. No more Tsunamis will occur fro...        NaN   \n",
      "601  ham  If u sending her home first it's ok lor. I'm n...        NaN   \n",
      "\n",
      "     Unnamed: 3  Unnamed: 4  \n",
      "600         NaN         NaN  \n",
      "601         NaN         NaN  \n",
      "**************************************************\n",
      "      v1                             v2 Unnamed: 2  Unnamed: 3  Unnamed: 4\n",
      "700  ham  How much r Ì_ willing to pay?        NaN         NaN         NaN\n",
      "701  ham         Sorry, I'll call later        NaN         NaN         NaN\n",
      "**************************************************\n",
      "       v1                                                 v2 Unnamed: 2  \\\n",
      "800  spam  Last Chance! Claim ur å£150 worth of discount ...        NaN   \n",
      "801   ham  Appt is at &lt;TIME&gt; am. Not my fault u don...        NaN   \n",
      "\n",
      "    Unnamed: 3  Unnamed: 4  \n",
      "800        NaN         NaN  \n",
      "801        NaN         NaN  \n",
      "**************************************************\n",
      "      v1                                                 v2  Unnamed: 2  \\\n",
      "900  ham  Probably money worries. Things are coming due ...         NaN   \n",
      "901  ham        How is it possible to teach you. And where.         NaN   \n",
      "\n",
      "     Unnamed: 3  Unnamed: 4  \n",
      "900         NaN         NaN  \n",
      "901         NaN         NaN  \n",
      "**************************************************\n",
      "        v1                                                 v2 Unnamed: 2  \\\n",
      "1000   ham                            No..but heard abt tat..        NaN   \n",
      "1001  spam  Please call our customer service representativ...        NaN   \n",
      "\n",
      "     Unnamed: 3 Unnamed: 4  \n",
      "1000        NaN        NaN  \n",
      "1001        NaN        NaN  \n",
      "**************************************************\n",
      "       v1                                                 v2 Unnamed: 2  \\\n",
      "1100  ham  You busy or can I come by at some point and fi...        NaN   \n",
      "1101  ham  Yeah go on then, bored and depressed sittin wa...        NaN   \n",
      "\n",
      "      Unnamed: 3  Unnamed: 4  \n",
      "1100         NaN         NaN  \n",
      "1101         NaN         NaN  \n",
      "**************************************************\n",
      "       v1                                        v2 Unnamed: 2  Unnamed: 3  \\\n",
      "1200  ham  Otherwise had part time job na-tuition..        NaN         NaN   \n",
      "1201  ham                      I know she called me        NaN         NaN   \n",
      "\n",
      "      Unnamed: 4  \n",
      "1200         NaN  \n",
      "1201         NaN  \n",
      "**************************************************\n",
      "       v1                                                 v2 Unnamed: 2  \\\n",
      "1300  ham  Those cocksuckers. If it makes you feel better...        NaN   \n",
      "1301  ham               I tot u reach liao. He said t-shirt.        NaN   \n",
      "\n",
      "      Unnamed: 3  Unnamed: 4  \n",
      "1300         NaN         NaN  \n",
      "1301         NaN         NaN  \n",
      "**************************************************\n",
      "       v1                                                 v2 Unnamed: 2  \\\n",
      "1400  ham  No, I decided that only people who care about ...        NaN   \n",
      "1401  ham  Kaiez... Enjoy ur tuition... Gee... Thk e seco...        NaN   \n",
      "\n",
      "      Unnamed: 3  Unnamed: 4  \n",
      "1400         NaN         NaN  \n",
      "1401         NaN         NaN  \n",
      "**************************************************\n",
      "        v1                                                 v2 Unnamed: 2  \\\n",
      "1500   ham                 Host-based IDPS for linux systems.        NaN   \n",
      "1501  spam  HOT LIVE FANTASIES call now 08707509020 Just 2...        NaN   \n",
      "\n",
      "      Unnamed: 3  Unnamed: 4  \n",
      "1500         NaN         NaN  \n",
      "1501         NaN         NaN  \n",
      "**************************************************\n",
      "       v1                                                 v2 Unnamed: 2  \\\n",
      "1600  ham                          K.then any other special?        NaN   \n",
      "1601  ham  Carlos is taking his sweet time as usual so le...        NaN   \n",
      "\n",
      "      Unnamed: 3  Unnamed: 4  \n",
      "1600         NaN         NaN  \n",
      "1601         NaN         NaN  \n",
      "**************************************************\n",
      "       v1                                                 v2  Unnamed: 2  \\\n",
      "1700  ham                    Please ask mummy to call father         NaN   \n",
      "1701  ham  Can come my room but cannot come my house cos ...         NaN   \n",
      "\n",
      "      Unnamed: 3  Unnamed: 4  \n",
      "1700         NaN         NaN  \n",
      "1701         NaN         NaN  \n",
      "**************************************************\n",
      "       v1                                                 v2  Unnamed: 2  \\\n",
      "1800  ham  excellent. I spent  &lt;#&gt;  years in the Ai...         NaN   \n",
      "1801  ham                           I wanna watch that movie         NaN   \n",
      "\n",
      "      Unnamed: 3  Unnamed: 4  \n",
      "1800         NaN         NaN  \n",
      "1801         NaN         NaN  \n",
      "**************************************************\n",
      "       v1                                                 v2 Unnamed: 2  \\\n",
      "1900  ham  And miss vday the parachute and double coins??...        NaN   \n",
      "1901  ham                             Sorry, I'll call later        NaN   \n",
      "\n",
      "      Unnamed: 3  Unnamed: 4  \n",
      "1900         NaN         NaN  \n",
      "1901         NaN         NaN  \n",
      "**************************************************\n",
      "       v1                                                 v2 Unnamed: 2  \\\n",
      "2000  ham  But i'll b going 2 sch on mon. My sis need 2 t...        NaN   \n",
      "2001  ham             Idea will soon get converted to live:)        NaN   \n",
      "\n",
      "      Unnamed: 3  Unnamed: 4  \n",
      "2000         NaN         NaN  \n",
      "2001         NaN         NaN  \n",
      "**************************************************\n",
      "       v1                                                 v2 Unnamed: 2  \\\n",
      "2100  ham    Oh Howda gud gud.. Mathe en samachara chikku:-)        NaN   \n",
      "2101  ham  I thk 530 lor. But dunno can get tickets a not...        NaN   \n",
      "\n",
      "     Unnamed: 3  Unnamed: 4  \n",
      "2100        NaN         NaN  \n",
      "2101        NaN         NaN  \n",
      "**************************************************\n",
      "       v1                                                 v2 Unnamed: 2  \\\n",
      "2200  ham  Haha... can... But i'm having dinner with my c...        NaN   \n",
      "2201  ham  A boy was late 2 home. His father: \\POWER OF F...        NaN   \n",
      "\n",
      "     Unnamed: 3 Unnamed: 4  \n",
      "2200        NaN        NaN  \n",
      "2201        NaN        NaN  \n",
      "**************************************************\n",
      "       v1                                                 v2  Unnamed: 2  \\\n",
      "2300  ham  Nothin comes to my mind. ÌÏ help me buy hanger...         NaN   \n",
      "2301  ham   &lt;#&gt; , that's all? Guess that's easy enough         NaN   \n",
      "\n",
      "      Unnamed: 3  Unnamed: 4  \n",
      "2300         NaN         NaN  \n",
      "2301         NaN         NaN  \n",
      "**************************************************\n",
      "        v1                                                 v2 Unnamed: 2  \\\n",
      "2400   ham            Hi! This is Roger from CL. How are you?        NaN   \n",
      "2401  spam  Babe: U want me dont u baby! Im nasty and have...        NaN   \n",
      "\n",
      "      Unnamed: 3  Unnamed: 4  \n",
      "2400         NaN         NaN  \n",
      "2401         NaN         NaN  \n",
      "**************************************************\n",
      "       v1                                    v2  Unnamed: 2  Unnamed: 3  \\\n",
      "2500  ham  Remember to ask alex about his pizza         NaN         NaN   \n",
      "2501  ham          No da..today also i forgot..         NaN         NaN   \n",
      "\n",
      "      Unnamed: 4  \n",
      "2500         NaN  \n",
      "2501         NaN  \n",
      "**************************************************\n",
      "       v1                                              v2  Unnamed: 2  \\\n",
      "2600  ham  As usual..iam fine, happy &amp; doing well..:)         NaN   \n",
      "2601  ham                                            Okie         NaN   \n",
      "\n",
      "      Unnamed: 3  Unnamed: 4  \n",
      "2600         NaN         NaN  \n",
      "2601         NaN         NaN  \n",
      "**************************************************\n",
      "       v1                                                 v2 Unnamed: 2  \\\n",
      "2700  ham  Feb  &lt;#&gt;  is \\I LOVE U\\\" day. Send dis t...        NaN   \n",
      "2701  ham  Hiya, sorry didn't hav signal. I haven't seen ...        NaN   \n",
      "\n",
      "      Unnamed: 3  Unnamed: 4  \n",
      "2700         NaN         NaN  \n",
      "2701         NaN         NaN  \n",
      "**************************************************\n",
      "       v1                                                 v2  Unnamed: 2  \\\n",
      "2800  ham                      Depends on where u going lor.         NaN   \n",
      "2801  ham  And smile for me right now as you go and the w...         NaN   \n",
      "\n",
      "      Unnamed: 3  Unnamed: 4  \n",
      "2800         NaN         NaN  \n",
      "2801         NaN         NaN  \n",
      "**************************************************\n",
      "        v1                                                 v2 Unnamed: 2  \\\n",
      "2900  spam  Ur cash-balance is currently 500 pounds - to m...        NaN   \n",
      "2901   ham  Bill, as in: Are there any letters for me. iÛ...        NaN   \n",
      "\n",
      "      Unnamed: 3  Unnamed: 4  \n",
      "2900         NaN         NaN  \n",
      "2901         NaN         NaN  \n",
      "**************************************************\n",
      "        v1                                                 v2  Unnamed: 2  \\\n",
      "3000  spam  This message is free. Welcome to the new & imp...         NaN   \n",
      "3001   ham         Excellent, I'll see what riley's plans are         NaN   \n",
      "\n",
      "      Unnamed: 3  Unnamed: 4  \n",
      "3000         NaN         NaN  \n",
      "3001         NaN         NaN  \n",
      "**************************************************\n",
      "       v1                                                v2 Unnamed: 2  \\\n",
      "3100  ham                      Pathaya enketa maraikara pa'        NaN   \n",
      "3101  ham  Even if he my friend he is a priest call him now        NaN   \n",
      "\n",
      "     Unnamed: 3  Unnamed: 4  \n",
      "3100        NaN         NaN  \n",
      "3101        NaN         NaN  \n",
      "**************************************************\n",
      "       v1                                                 v2 Unnamed: 2  \\\n",
      "3200  ham                       Nice.nice.how is it working?        NaN   \n",
      "3201  ham  Okay lor... Wah... like that def they wont let...        NaN   \n",
      "\n",
      "      Unnamed: 3  Unnamed: 4  \n",
      "3200         NaN         NaN  \n",
      "3201         NaN         NaN  \n",
      "**************************************************\n",
      "        v1                                                 v2  Unnamed: 2  \\\n",
      "3300  spam           RCT' THNQ Adrian for U text. Rgds Vatian         NaN   \n",
      "3301   ham  Stop calling everyone saying I might have canc...         NaN   \n",
      "\n",
      "      Unnamed: 3  Unnamed: 4  \n",
      "3300         NaN         NaN  \n",
      "3301         NaN         NaN  \n",
      "**************************************************\n",
      "       v1                                                 v2  Unnamed: 2  \\\n",
      "3400  ham                    Thanks honey. Have a great day.         NaN   \n",
      "3401  ham  'An Amazing Quote'' - \\Sometimes in life its d...         NaN   \n",
      "\n",
      "      Unnamed: 3  Unnamed: 4  \n",
      "3400         NaN         NaN  \n",
      "3401         NaN         NaN  \n",
      "**************************************************\n",
      "       v1                                                 v2 Unnamed: 2  \\\n",
      "3500  ham  says the  &lt;#&gt;  year old with a man and m...        NaN   \n",
      "3501  ham                         I will come to ur home now        NaN   \n",
      "\n",
      "     Unnamed: 3 Unnamed: 4  \n",
      "3500        NaN        NaN  \n",
      "3501        NaN        NaN  \n",
      "**************************************************\n",
      "       v1                                              v2 Unnamed: 2  \\\n",
      "3600  ham                    Jay told me already, will do        NaN   \n",
      "3601  ham  Cps is causing the outages to conserve energy.        NaN   \n",
      "\n",
      "      Unnamed: 3  Unnamed: 4  \n",
      "3600         NaN         NaN  \n",
      "3601         NaN         NaN  \n",
      "**************************************************\n",
      "       v1                                                 v2 Unnamed: 2  \\\n",
      "3700  ham                              Shall i get my pouch?        NaN   \n",
      "3701  ham  Hey loverboy! I love you !! I had to tell ... ...        NaN   \n",
      "\n",
      "      Unnamed: 3  Unnamed: 4  \n",
      "3700         NaN         NaN  \n",
      "3701         NaN         NaN  \n",
      "**************************************************\n",
      "       v1                                         v2 Unnamed: 2  Unnamed: 3  \\\n",
      "3800  ham    It's ok, at least armand's still around        NaN         NaN   \n",
      "3801  ham  No da. I am happy that we sit together na        NaN         NaN   \n",
      "\n",
      "      Unnamed: 4  \n",
      "3800         NaN  \n",
      "3801         NaN  \n",
      "**************************************************\n",
      "       v1                                                 v2  Unnamed: 2  \\\n",
      "3900  ham  That depends. How would you like to be treated...         NaN   \n",
      "3901  ham                       Right on brah, see you later         NaN   \n",
      "\n",
      "      Unnamed: 3  Unnamed: 4  \n",
      "3900         NaN         NaN  \n",
      "3901         NaN         NaN  \n",
      "**************************************************\n",
      "       v1                                                 v2  Unnamed: 2  \\\n",
      "4000  ham  He's just gonna worry for nothing. And he won'...         NaN   \n",
      "4001  ham  Did you get any gift? This year i didnt get an...         NaN   \n",
      "\n",
      "      Unnamed: 3  Unnamed: 4  \n",
      "4000         NaN         NaN  \n",
      "4001         NaN         NaN  \n",
      "**************************************************\n",
      "        v1                                                 v2 Unnamed: 2  \\\n",
      "4100  spam  GSOH? Good with SPAM the ladies?U could b a ma...        NaN   \n",
      "4101   ham  Ok then i will come to ur home after half an hour        NaN   \n",
      "\n",
      "      Unnamed: 3  Unnamed: 4  \n",
      "4100         NaN         NaN  \n",
      "4101         NaN         NaN  \n",
      "**************************************************\n",
      "       v1                                                 v2 Unnamed: 2  \\\n",
      "4200  ham  Wylie update: my weed dealer carlos went to fr...        NaN   \n",
      "4201  ham  Are you happy baby ? Are you alright ? Did you...        NaN   \n",
      "\n",
      "      Unnamed: 3  Unnamed: 4  \n",
      "4200         NaN         NaN  \n",
      "4201         NaN         NaN  \n",
      "**************************************************\n",
      "       v1                                                 v2  Unnamed: 2  \\\n",
      "4300  ham  Are there TA jobs available? Let me know pleas...         NaN   \n",
      "4301  ham  Aiyar hard 2 type. U later free then tell me t...         NaN   \n",
      "\n",
      "      Unnamed: 3  Unnamed: 4  \n",
      "4300         NaN         NaN  \n",
      "4301         NaN         NaN  \n",
      "**************************************************\n",
      "       v1                                                 v2 Unnamed: 2  \\\n",
      "4400  ham      Many times we lose our best ones bcoz we are         NaN   \n",
      "4401  ham  Good FRIENDS CaRE for each Other.. CLoSE Frien...        NaN   \n",
      "\n",
      "      Unnamed: 3  Unnamed: 4  \n",
      "4400         NaN         NaN  \n",
      "4401         NaN         NaN  \n",
      "**************************************************\n",
      "       v1                         v2 Unnamed: 2  Unnamed: 3  Unnamed: 4\n",
      "4500  ham      So wat's da decision?        NaN         NaN         NaN\n",
      "4501  ham  Wot is u up 2 then bitch?        NaN         NaN         NaN\n",
      "**************************************************\n",
      "        v1                                                 v2  \\\n",
      "4600  spam  FreeMsg: Txt: CALL to No: 86888 & claim your r...   \n",
      "4601   ham                     \\Hey j! r u feeling any better   \n",
      "\n",
      "                                             Unnamed: 2 Unnamed: 3 Unnamed: 4  \n",
      "4600                                                NaN        NaN        NaN  \n",
      "4601   hopeSo hunny. i amnow feelin ill & ithink i m...        NaN        NaN  \n",
      "**************************************************\n",
      "       v1                      v2  Unnamed: 2  Unnamed: 3  Unnamed: 4\n",
      "4700  ham  I liked the new mobile         NaN         NaN         NaN\n",
      "4701  ham              Anytime...         NaN         NaN         NaN\n",
      "**************************************************\n",
      "       v1                                                 v2 Unnamed: 2  \\\n",
      "4800  ham  The guy at the car shop who was flirting with ...        NaN   \n",
      "4801  ham      Reverse is cheating. That is not mathematics.        NaN   \n",
      "\n",
      "      Unnamed: 3  Unnamed: 4  \n",
      "4800         NaN         NaN  \n",
      "4801         NaN         NaN  \n",
      "**************************************************\n",
      "        v1                                                 v2 Unnamed: 2  \\\n",
      "4900   ham       Taka lor. Wat time u wan 2 come n look 4 us?        NaN   \n",
      "4901  spam  * FREE* POLYPHONIC RINGTONE Text SUPER to 8713...        NaN   \n",
      "\n",
      "      Unnamed: 3  Unnamed: 4  \n",
      "4900         NaN         NaN  \n",
      "4901         NaN         NaN  \n",
      "**************************************************\n",
      "       v1                                                 v2 Unnamed: 2  \\\n",
      "5000  ham  Nope. Since ayo travelled, he has forgotten hi...        NaN   \n",
      "5001  ham         You still around? Looking to pick up later        NaN   \n",
      "\n",
      "     Unnamed: 3 Unnamed: 4  \n",
      "5000        NaN        NaN  \n",
      "5001        NaN        NaN  \n",
      "**************************************************\n",
      "       v1                                         v2  Unnamed: 2  Unnamed: 3  \\\n",
      "5100  ham           Aight, call me once you're close         NaN         NaN   \n",
      "5101  ham  Nope thats fine. I might have a nap tho!          NaN         NaN   \n",
      "\n",
      "      Unnamed: 4  \n",
      "5100         NaN  \n",
      "5101         NaN  \n",
      "**************************************************\n",
      "        v1                                                 v2 Unnamed: 2  \\\n",
      "5200  spam  Call Germany for only 1 pence per minute! Call...        NaN   \n",
      "5201  spam  YOU VE WON! Your 4* Costa Del Sol Holiday or å...        NaN   \n",
      "\n",
      "      Unnamed: 3  Unnamed: 4  \n",
      "5200         NaN         NaN  \n",
      "5201         NaN         NaN  \n",
      "**************************************************\n",
      "       v1                                   v2  Unnamed: 2  Unnamed: 3  \\\n",
      "5300  ham              I can't make it tonight         NaN         NaN   \n",
      "5301  ham  At WHAT TIME should i come tomorrow         NaN         NaN   \n",
      "\n",
      "      Unnamed: 4  \n",
      "5300         NaN  \n",
      "5301         NaN  \n",
      "**************************************************\n",
      "       v1                                                 v2  Unnamed: 2  \\\n",
      "5400  ham  HARD BUT TRUE: How much you show &amp;  expres...         NaN   \n",
      "5401  ham  Babes I think I got ur brolly I left it in Eng...         NaN   \n",
      "\n",
      "      Unnamed: 3  Unnamed: 4  \n",
      "5400         NaN         NaN  \n",
      "5401         NaN         NaN  \n",
      "**************************************************\n",
      "        v1                                                 v2  Unnamed: 2  \\\n",
      "5500   ham  Love has one law; Make happy the person you lo...         NaN   \n",
      "5501  spam  PRIVATE! Your 2003 Account Statement for 07808...         NaN   \n",
      "\n",
      "      Unnamed: 3  Unnamed: 4  \n",
      "5500         NaN         NaN  \n",
      "5501         NaN         NaN  \n",
      "**************************************************\n"
     ]
    }
   ],
   "source": [
    "files=pd.read_csv(r\"C:\\Users\\Lenovo\\Downloads\\spam.csv\",encoding=\"latin\",chunksize=100)\n",
    "c=0\n",
    "for chunk in files:\n",
    "    print(chunk.head(2))\n",
    "    print(\"*\"*50)\n",
    "    c+=1"
   ]
  },
  {
   "cell_type": "code",
   "execution_count": 48,
   "id": "d98313ca-783b-4b65-a0d4-bc54e0d5716d",
   "metadata": {},
   "outputs": [
    {
     "data": {
      "text/plain": [
       "(72, 5)"
      ]
     },
     "execution_count": 48,
     "metadata": {},
     "output_type": "execute_result"
    }
   ],
   "source": [
    "chunk.shape"
   ]
  },
  {
   "cell_type": "code",
   "execution_count": 50,
   "id": "09bb9347-66ff-4012-b3b7-c6a88027c015",
   "metadata": {},
   "outputs": [
    {
     "data": {
      "text/plain": [
       "56"
      ]
     },
     "execution_count": 50,
     "metadata": {},
     "output_type": "execute_result"
    }
   ],
   "source": [
    "c"
   ]
  },
  {
   "cell_type": "code",
   "execution_count": 51,
   "id": "7596f77d-b0a6-4d06-b04b-f2a1e359cbe2",
   "metadata": {},
   "outputs": [
    {
     "name": "stdout",
     "output_type": "stream",
     "text": [
      "Collecting polars\n",
      "  Downloading polars-1.14.0-cp39-abi3-win_amd64.whl.metadata (15 kB)\n",
      "Downloading polars-1.14.0-cp39-abi3-win_amd64.whl (35.3 MB)\n",
      "   ---------------------------------------- 0.0/35.3 MB ? eta -:--:--\n",
      "   --- ------------------------------------ 3.1/35.3 MB 16.8 MB/s eta 0:00:02\n",
      "   ------ --------------------------------- 6.0/35.3 MB 15.4 MB/s eta 0:00:02\n",
      "   ---------- ----------------------------- 9.2/35.3 MB 15.0 MB/s eta 0:00:02\n",
      "   ------------- -------------------------- 12.1/35.3 MB 15.1 MB/s eta 0:00:02\n",
      "   ----------------- ---------------------- 15.2/35.3 MB 14.9 MB/s eta 0:00:02\n",
      "   -------------------- ------------------- 18.4/35.3 MB 15.0 MB/s eta 0:00:02\n",
      "   ------------------------ --------------- 21.5/35.3 MB 14.9 MB/s eta 0:00:01\n",
      "   --------------------------- ------------ 24.1/35.3 MB 14.7 MB/s eta 0:00:01\n",
      "   ------------------------------ --------- 27.3/35.3 MB 14.6 MB/s eta 0:00:01\n",
      "   ---------------------------------- ----- 30.1/35.3 MB 14.7 MB/s eta 0:00:01\n",
      "   ------------------------------------- -- 33.3/35.3 MB 14.7 MB/s eta 0:00:01\n",
      "   ---------------------------------------  35.1/35.3 MB 14.7 MB/s eta 0:00:01\n",
      "   ---------------------------------------- 35.3/35.3 MB 14.1 MB/s eta 0:00:00\n",
      "Installing collected packages: polars\n",
      "Successfully installed polars-1.14.0\n"
     ]
    },
    {
     "name": "stderr",
     "output_type": "stream",
     "text": [
      "\n",
      "[notice] A new release of pip is available: 24.2 -> 24.3.1\n",
      "[notice] To update, run: python.exe -m pip install --upgrade pip\n"
     ]
    }
   ],
   "source": [
    "!pip install polars"
   ]
  },
  {
   "cell_type": "code",
   "execution_count": 52,
   "id": "0858bc85-a0bc-4c11-83cd-578ebcefe4c6",
   "metadata": {},
   "outputs": [],
   "source": [
    "import polars"
   ]
  },
  {
   "cell_type": "code",
   "execution_count": 57,
   "id": "3874adc3-e290-4749-932e-ef7ded009563",
   "metadata": {},
   "outputs": [],
   "source": [
    "import time"
   ]
  },
  {
   "cell_type": "code",
   "execution_count": 58,
   "id": "08c95c5f-1c6e-445c-a3b5-3d60ec682119",
   "metadata": {},
   "outputs": [],
   "source": [
    "x=time.time()\n",
    "data=pd.read_csv(r\"C:\\Users\\Lenovo\\Downloads\\spam.csv\",encoding=\"latin\")\n",
    "y=time.time()"
   ]
  },
  {
   "cell_type": "code",
   "execution_count": 59,
   "id": "a7d94053-c43b-4e9e-bf73-b0ccd970278a",
   "metadata": {},
   "outputs": [
    {
     "data": {
      "text/plain": [
       "0.05347156524658203"
      ]
     },
     "execution_count": 59,
     "metadata": {},
     "output_type": "execute_result"
    }
   ],
   "source": [
    "y-x"
   ]
  },
  {
   "cell_type": "code",
   "execution_count": 61,
   "id": "5c91ccf2-82c9-439e-8139-83187a2d44f3",
   "metadata": {},
   "outputs": [],
   "source": [
    "data=pd.read_csv(r\"C:\\Users\\Lenovo\\Downloads\\spam.csv\",encoding=\"latin\")"
   ]
  },
  {
   "cell_type": "code",
   "execution_count": 63,
   "id": "ebb4d760-92ab-4873-9a0e-ef5a4328062b",
   "metadata": {},
   "outputs": [],
   "source": [
    "data[[\"v1\",\"v2\"]].to_csv(r\"C:\\Users\\Lenovo\\Downloads\\spam1.csv\",mode=\"x\")  # use only mode = \"x\" dont use \"a\",\"w\""
   ]
  },
  {
   "cell_type": "code",
   "execution_count": 7,
   "id": "1eaf2ecd-531d-4cb4-8402-bd7d8c4080a2",
   "metadata": {},
   "outputs": [],
   "source": [
    "df= pd.read_excel(r\"C:\\Users\\Lenovo\\Downloads\\D2.xlsx\",sheet_name=[0,1],)\n",
    "# dictionary keys"
   ]
  },
  {
   "cell_type": "code",
   "execution_count": 4,
   "id": "013f5c34-d5bf-4163-8915-b82fd12a7903",
   "metadata": {},
   "outputs": [],
   "source": [
    "import pandas as pd"
   ]
  },
  {
   "cell_type": "code",
   "execution_count": 8,
   "id": "087c3638-40b8-4ec3-a579-d9f7155a6c1d",
   "metadata": {},
   "outputs": [
    {
     "data": {
      "text/plain": [
       "dict"
      ]
     },
     "execution_count": 8,
     "metadata": {},
     "output_type": "execute_result"
    }
   ],
   "source": [
    "type(df)"
   ]
  },
  {
   "cell_type": "code",
   "execution_count": 9,
   "id": "5da4194a-17a1-4506-95f2-a1cd68fb80e3",
   "metadata": {},
   "outputs": [
    {
     "data": {
      "text/html": [
       "<div>\n",
       "<style scoped>\n",
       "    .dataframe tbody tr th:only-of-type {\n",
       "        vertical-align: middle;\n",
       "    }\n",
       "\n",
       "    .dataframe tbody tr th {\n",
       "        vertical-align: top;\n",
       "    }\n",
       "\n",
       "    .dataframe thead th {\n",
       "        text-align: right;\n",
       "    }\n",
       "</style>\n",
       "<table border=\"1\" class=\"dataframe\">\n",
       "  <thead>\n",
       "    <tr style=\"text-align: right;\">\n",
       "      <th></th>\n",
       "      <th>Name</th>\n",
       "      <th>Age</th>\n",
       "      <th>Unnamed: 2</th>\n",
       "    </tr>\n",
       "  </thead>\n",
       "  <tbody>\n",
       "    <tr>\n",
       "      <th>0</th>\n",
       "      <td>p1</td>\n",
       "      <td>12</td>\n",
       "      <td>NaN</td>\n",
       "    </tr>\n",
       "    <tr>\n",
       "      <th>1</th>\n",
       "      <td>p2</td>\n",
       "      <td>13</td>\n",
       "      <td>NaN</td>\n",
       "    </tr>\n",
       "    <tr>\n",
       "      <th>2</th>\n",
       "      <td>p3</td>\n",
       "      <td>14</td>\n",
       "      <td>NaN</td>\n",
       "    </tr>\n",
       "    <tr>\n",
       "      <th>3</th>\n",
       "      <td>p4</td>\n",
       "      <td>15</td>\n",
       "      <td>NaN</td>\n",
       "    </tr>\n",
       "    <tr>\n",
       "      <th>4</th>\n",
       "      <td>p5</td>\n",
       "      <td>15</td>\n",
       "      <td>NaN</td>\n",
       "    </tr>\n",
       "    <tr>\n",
       "      <th>5</th>\n",
       "      <td>p6</td>\n",
       "      <td>16</td>\n",
       "      <td>24.0</td>\n",
       "    </tr>\n",
       "  </tbody>\n",
       "</table>\n",
       "</div>"
      ],
      "text/plain": [
       "  Name  Age  Unnamed: 2\n",
       "0   p1   12         NaN\n",
       "1   p2   13         NaN\n",
       "2   p3   14         NaN\n",
       "3   p4   15         NaN\n",
       "4   p5   15         NaN\n",
       "5   p6   16        24.0"
      ]
     },
     "execution_count": 9,
     "metadata": {},
     "output_type": "execute_result"
    }
   ],
   "source": [
    "df[0]"
   ]
  },
  {
   "cell_type": "code",
   "execution_count": 11,
   "id": "413d16b6-69bd-44ae-8842-b16da08884b7",
   "metadata": {},
   "outputs": [
    {
     "data": {
      "text/html": [
       "<div>\n",
       "<style scoped>\n",
       "    .dataframe tbody tr th:only-of-type {\n",
       "        vertical-align: middle;\n",
       "    }\n",
       "\n",
       "    .dataframe tbody tr th {\n",
       "        vertical-align: top;\n",
       "    }\n",
       "\n",
       "    .dataframe thead th {\n",
       "        text-align: right;\n",
       "    }\n",
       "</style>\n",
       "<table border=\"1\" class=\"dataframe\">\n",
       "  <thead>\n",
       "    <tr style=\"text-align: right;\">\n",
       "      <th></th>\n",
       "      <th>Math</th>\n",
       "      <th>Hindi</th>\n",
       "    </tr>\n",
       "  </thead>\n",
       "  <tbody>\n",
       "    <tr>\n",
       "      <th>0</th>\n",
       "      <td>12</td>\n",
       "      <td>325</td>\n",
       "    </tr>\n",
       "    <tr>\n",
       "      <th>1</th>\n",
       "      <td>12</td>\n",
       "      <td>325</td>\n",
       "    </tr>\n",
       "    <tr>\n",
       "      <th>2</th>\n",
       "      <td>12</td>\n",
       "      <td>325</td>\n",
       "    </tr>\n",
       "    <tr>\n",
       "      <th>3</th>\n",
       "      <td>12</td>\n",
       "      <td>325</td>\n",
       "    </tr>\n",
       "  </tbody>\n",
       "</table>\n",
       "</div>"
      ],
      "text/plain": [
       "   Math  Hindi\n",
       "0    12    325\n",
       "1    12    325\n",
       "2    12    325\n",
       "3    12    325"
      ]
     },
     "execution_count": 11,
     "metadata": {},
     "output_type": "execute_result"
    }
   ],
   "source": [
    "df[1]"
   ]
  },
  {
   "cell_type": "code",
   "execution_count": null,
   "id": "c894c2cd-7674-415d-b075-dbd17fe71ba3",
   "metadata": {},
   "outputs": [],
   "source": [
    "df[0].to_excel(r\"C:\\Users\\Lenovo\\Downloads\\D2.xlsx\") # to_excel at"
   ]
  },
  {
   "cell_type": "code",
   "execution_count": 12,
   "id": "62b74669-c7be-4b1c-b2a4-c4fece9c336c",
   "metadata": {},
   "outputs": [],
   "source": [
    "# we want to save multiple data frame into multiple sheet"
   ]
  },
  {
   "cell_type": "code",
   "execution_count": 13,
   "id": "2ee6f6ef-6b83-41e3-ba11-96b18b406643",
   "metadata": {},
   "outputs": [],
   "source": [
    "f=pd.ExcelWriter(r\"C:\\Users\\Lenovo\\Downloads\\D1.xlsx\")\n",
    "f.close()"
   ]
  },
  {
   "cell_type": "code",
   "execution_count": 14,
   "id": "4aac3a5a-2b56-4c17-9e10-54fd49a150a6",
   "metadata": {},
   "outputs": [],
   "source": [
    "# Very important"
   ]
  },
  {
   "cell_type": "code",
   "execution_count": null,
   "id": "c8ac2e86-e54b-4db2-a919-8915d712c4de",
   "metadata": {},
   "outputs": [],
   "source": [
    "with pd.ExcelWriter(r\"C:\\Users\\Lenovo\\Downloads\\D2.Book1.xlsx\",mode=\"x\")as f:\n",
    "    df[0].to_excel(f,sheet_name=\"student_info\")\n",
    "    df[1].to_excel(f,sheet_name=\"sem-1\")             "
   ]
  },
  {
   "cell_type": "code",
   "execution_count": 35,
   "id": "c0eb2ef7-4f1c-42a9-81f4-ac5be324a6a0",
   "metadata": {},
   "outputs": [],
   "source": [
    "x = '{\"Name\":[\"p1\",\"p2\"],\"Age\":[23,24]}'\n",
    "# by default json format simple json"
   ]
  },
  {
   "cell_type": "code",
   "execution_count": 36,
   "id": "2e947e5b-182a-4ba8-b77e-058b841b1929",
   "metadata": {},
   "outputs": [
    {
     "name": "stderr",
     "output_type": "stream",
     "text": [
      "C:\\Users\\Lenovo\\AppData\\Local\\Temp\\ipykernel_7132\\85141241.py:1: FutureWarning: Passing literal json to 'read_json' is deprecated and will be removed in a future version. To read from a literal string, wrap it in a 'StringIO' object.\n",
      "  pd.read_json(x)\n"
     ]
    },
    {
     "data": {
      "text/html": [
       "<div>\n",
       "<style scoped>\n",
       "    .dataframe tbody tr th:only-of-type {\n",
       "        vertical-align: middle;\n",
       "    }\n",
       "\n",
       "    .dataframe tbody tr th {\n",
       "        vertical-align: top;\n",
       "    }\n",
       "\n",
       "    .dataframe thead th {\n",
       "        text-align: right;\n",
       "    }\n",
       "</style>\n",
       "<table border=\"1\" class=\"dataframe\">\n",
       "  <thead>\n",
       "    <tr style=\"text-align: right;\">\n",
       "      <th></th>\n",
       "      <th>Name</th>\n",
       "      <th>Age</th>\n",
       "    </tr>\n",
       "  </thead>\n",
       "  <tbody>\n",
       "    <tr>\n",
       "      <th>0</th>\n",
       "      <td>p1</td>\n",
       "      <td>23</td>\n",
       "    </tr>\n",
       "    <tr>\n",
       "      <th>1</th>\n",
       "      <td>p2</td>\n",
       "      <td>24</td>\n",
       "    </tr>\n",
       "  </tbody>\n",
       "</table>\n",
       "</div>"
      ],
      "text/plain": [
       "  Name  Age\n",
       "0   p1   23\n",
       "1   p2   24"
      ]
     },
     "execution_count": 36,
     "metadata": {},
     "output_type": "execute_result"
    }
   ],
   "source": [
    "pd.read_json(x)\n",
    "# can only convert structured json format intp df"
   ]
  },
  {
   "cell_type": "code",
   "execution_count": 37,
   "id": "2d74bce6-7cb2-4b7b-b261-21a03b34f4fc",
   "metadata": {},
   "outputs": [],
   "source": [
    "x1= '{\"Name\":[\"p1\",\"p2\"],\"Age\":[23,24]}'\n",
    "# default json format simplest"
   ]
  },
  {
   "cell_type": "code",
   "execution_count": 38,
   "id": "19fd86af-ef3d-42c9-984b-711fff1af68b",
   "metadata": {},
   "outputs": [
    {
     "name": "stderr",
     "output_type": "stream",
     "text": [
      "C:\\Users\\Lenovo\\AppData\\Local\\Temp\\ipykernel_7132\\1267235832.py:1: FutureWarning: Passing literal json to 'read_json' is deprecated and will be removed in a future version. To read from a literal string, wrap it in a 'StringIO' object.\n",
      "  pd.read_json(x)\n"
     ]
    },
    {
     "data": {
      "text/html": [
       "<div>\n",
       "<style scoped>\n",
       "    .dataframe tbody tr th:only-of-type {\n",
       "        vertical-align: middle;\n",
       "    }\n",
       "\n",
       "    .dataframe tbody tr th {\n",
       "        vertical-align: top;\n",
       "    }\n",
       "\n",
       "    .dataframe thead th {\n",
       "        text-align: right;\n",
       "    }\n",
       "</style>\n",
       "<table border=\"1\" class=\"dataframe\">\n",
       "  <thead>\n",
       "    <tr style=\"text-align: right;\">\n",
       "      <th></th>\n",
       "      <th>Name</th>\n",
       "      <th>Age</th>\n",
       "    </tr>\n",
       "  </thead>\n",
       "  <tbody>\n",
       "    <tr>\n",
       "      <th>0</th>\n",
       "      <td>p1</td>\n",
       "      <td>23</td>\n",
       "    </tr>\n",
       "    <tr>\n",
       "      <th>1</th>\n",
       "      <td>p2</td>\n",
       "      <td>24</td>\n",
       "    </tr>\n",
       "  </tbody>\n",
       "</table>\n",
       "</div>"
      ],
      "text/plain": [
       "  Name  Age\n",
       "0   p1   23\n",
       "1   p2   24"
      ]
     },
     "execution_count": 38,
     "metadata": {},
     "output_type": "execute_result"
    }
   ],
   "source": [
    "pd.read_json(x)"
   ]
  },
  {
   "cell_type": "code",
   "execution_count": 41,
   "id": "4857b5f6-f51b-44d2-a65b-f9ca475b73d0",
   "metadata": {},
   "outputs": [
    {
     "name": "stderr",
     "output_type": "stream",
     "text": [
      "C:\\Users\\Lenovo\\AppData\\Local\\Temp\\ipykernel_7132\\695020713.py:1: FutureWarning: Passing literal json to 'read_json' is deprecated and will be removed in a future version. To read from a literal string, wrap it in a 'StringIO' object.\n",
      "  data = pd.read_json(x)\n"
     ]
    }
   ],
   "source": [
    "data = pd.read_json(x)"
   ]
  },
  {
   "cell_type": "code",
   "execution_count": 44,
   "id": "0320366a-2417-4c5a-82d6-1ea65094cf64",
   "metadata": {},
   "outputs": [],
   "source": [
    "x2=data.to_json(orient=\"index\")"
   ]
  },
  {
   "cell_type": "code",
   "execution_count": 45,
   "id": "5e52b5ea-782f-4e54-ba89-b29f916acd65",
   "metadata": {},
   "outputs": [
    {
     "data": {
      "text/plain": [
       "'{\"0\":{\"Name\":\"p1\",\"Age\":23},\"1\":{\"Name\":\"p2\",\"Age\":24}}'"
      ]
     },
     "execution_count": 45,
     "metadata": {},
     "output_type": "execute_result"
    }
   ],
   "source": [
    "x2"
   ]
  },
  {
   "cell_type": "code",
   "execution_count": 47,
   "id": "6da33d0d-d496-421e-b02a-97add14bb2ff",
   "metadata": {},
   "outputs": [
    {
     "name": "stderr",
     "output_type": "stream",
     "text": [
      "C:\\Users\\Lenovo\\AppData\\Local\\Temp\\ipykernel_7132\\1222398037.py:1: FutureWarning: Passing literal json to 'read_json' is deprecated and will be removed in a future version. To read from a literal string, wrap it in a 'StringIO' object.\n",
      "  pd.read_json(x2,orient=\"index\")\n"
     ]
    },
    {
     "data": {
      "text/html": [
       "<div>\n",
       "<style scoped>\n",
       "    .dataframe tbody tr th:only-of-type {\n",
       "        vertical-align: middle;\n",
       "    }\n",
       "\n",
       "    .dataframe tbody tr th {\n",
       "        vertical-align: top;\n",
       "    }\n",
       "\n",
       "    .dataframe thead th {\n",
       "        text-align: right;\n",
       "    }\n",
       "</style>\n",
       "<table border=\"1\" class=\"dataframe\">\n",
       "  <thead>\n",
       "    <tr style=\"text-align: right;\">\n",
       "      <th></th>\n",
       "      <th>Name</th>\n",
       "      <th>Age</th>\n",
       "    </tr>\n",
       "  </thead>\n",
       "  <tbody>\n",
       "    <tr>\n",
       "      <th>0</th>\n",
       "      <td>p1</td>\n",
       "      <td>23</td>\n",
       "    </tr>\n",
       "    <tr>\n",
       "      <th>1</th>\n",
       "      <td>p2</td>\n",
       "      <td>24</td>\n",
       "    </tr>\n",
       "  </tbody>\n",
       "</table>\n",
       "</div>"
      ],
      "text/plain": [
       "  Name  Age\n",
       "0   p1   23\n",
       "1   p2   24"
      ]
     },
     "execution_count": 47,
     "metadata": {},
     "output_type": "execute_result"
    }
   ],
   "source": [
    "pd.read_json(x2,orient=\"index\")"
   ]
  },
  {
   "cell_type": "code",
   "execution_count": 48,
   "id": "e1a01335-b34d-47ad-810f-5b468cc4643d",
   "metadata": {},
   "outputs": [],
   "source": [
    "x3=data.to_json(orient=\"columns\")"
   ]
  },
  {
   "cell_type": "code",
   "execution_count": 49,
   "id": "f8d27659-8728-4edc-afaf-cc44e92bbcd8",
   "metadata": {},
   "outputs": [
    {
     "data": {
      "text/plain": [
       "'{\"Name\":{\"0\":\"p1\",\"1\":\"p2\"},\"Age\":{\"0\":23,\"1\":24}}'"
      ]
     },
     "execution_count": 49,
     "metadata": {},
     "output_type": "execute_result"
    }
   ],
   "source": [
    "x3"
   ]
  },
  {
   "cell_type": "code",
   "execution_count": 50,
   "id": "887d1f02-33ac-45f9-b5c9-6215e1a0d527",
   "metadata": {},
   "outputs": [
    {
     "name": "stderr",
     "output_type": "stream",
     "text": [
      "C:\\Users\\Lenovo\\AppData\\Local\\Temp\\ipykernel_7132\\2742886167.py:1: FutureWarning: Passing literal json to 'read_json' is deprecated and will be removed in a future version. To read from a literal string, wrap it in a 'StringIO' object.\n",
      "  pd.read_json(x3,orient=\"columns\")\n"
     ]
    },
    {
     "data": {
      "text/html": [
       "<div>\n",
       "<style scoped>\n",
       "    .dataframe tbody tr th:only-of-type {\n",
       "        vertical-align: middle;\n",
       "    }\n",
       "\n",
       "    .dataframe tbody tr th {\n",
       "        vertical-align: top;\n",
       "    }\n",
       "\n",
       "    .dataframe thead th {\n",
       "        text-align: right;\n",
       "    }\n",
       "</style>\n",
       "<table border=\"1\" class=\"dataframe\">\n",
       "  <thead>\n",
       "    <tr style=\"text-align: right;\">\n",
       "      <th></th>\n",
       "      <th>Name</th>\n",
       "      <th>Age</th>\n",
       "    </tr>\n",
       "  </thead>\n",
       "  <tbody>\n",
       "    <tr>\n",
       "      <th>0</th>\n",
       "      <td>p1</td>\n",
       "      <td>23</td>\n",
       "    </tr>\n",
       "    <tr>\n",
       "      <th>1</th>\n",
       "      <td>p2</td>\n",
       "      <td>24</td>\n",
       "    </tr>\n",
       "  </tbody>\n",
       "</table>\n",
       "</div>"
      ],
      "text/plain": [
       "  Name  Age\n",
       "0   p1   23\n",
       "1   p2   24"
      ]
     },
     "execution_count": 50,
     "metadata": {},
     "output_type": "execute_result"
    }
   ],
   "source": [
    "pd.read_json(x3,orient=\"columns\")"
   ]
  },
  {
   "cell_type": "code",
   "execution_count": 52,
   "id": "eac24776-4afb-4a3c-8b62-9208617fcc8c",
   "metadata": {},
   "outputs": [],
   "source": [
    "x4=data.to_json(orient=\"values\")"
   ]
  },
  {
   "cell_type": "code",
   "execution_count": 53,
   "id": "75017921-e207-4be2-aad7-4bad33841060",
   "metadata": {},
   "outputs": [
    {
     "data": {
      "text/plain": [
       "'[[\"p1\",23],[\"p2\",24]]'"
      ]
     },
     "execution_count": 53,
     "metadata": {},
     "output_type": "execute_result"
    }
   ],
   "source": [
    "x4"
   ]
  },
  {
   "cell_type": "code",
   "execution_count": 54,
   "id": "1fac1182-3fdc-4891-82f2-878119748911",
   "metadata": {},
   "outputs": [
    {
     "name": "stderr",
     "output_type": "stream",
     "text": [
      "C:\\Users\\Lenovo\\AppData\\Local\\Temp\\ipykernel_7132\\2664431613.py:1: FutureWarning: Passing literal json to 'read_json' is deprecated and will be removed in a future version. To read from a literal string, wrap it in a 'StringIO' object.\n",
      "  pd.read_json(x4,orient=\"values\")\n"
     ]
    },
    {
     "data": {
      "text/html": [
       "<div>\n",
       "<style scoped>\n",
       "    .dataframe tbody tr th:only-of-type {\n",
       "        vertical-align: middle;\n",
       "    }\n",
       "\n",
       "    .dataframe tbody tr th {\n",
       "        vertical-align: top;\n",
       "    }\n",
       "\n",
       "    .dataframe thead th {\n",
       "        text-align: right;\n",
       "    }\n",
       "</style>\n",
       "<table border=\"1\" class=\"dataframe\">\n",
       "  <thead>\n",
       "    <tr style=\"text-align: right;\">\n",
       "      <th></th>\n",
       "      <th>0</th>\n",
       "      <th>1</th>\n",
       "    </tr>\n",
       "  </thead>\n",
       "  <tbody>\n",
       "    <tr>\n",
       "      <th>0</th>\n",
       "      <td>p1</td>\n",
       "      <td>23</td>\n",
       "    </tr>\n",
       "    <tr>\n",
       "      <th>1</th>\n",
       "      <td>p2</td>\n",
       "      <td>24</td>\n",
       "    </tr>\n",
       "  </tbody>\n",
       "</table>\n",
       "</div>"
      ],
      "text/plain": [
       "    0   1\n",
       "0  p1  23\n",
       "1  p2  24"
      ]
     },
     "execution_count": 54,
     "metadata": {},
     "output_type": "execute_result"
    }
   ],
   "source": [
    "pd.read_json(x4,orient=\"values\")"
   ]
  },
  {
   "cell_type": "code",
   "execution_count": 55,
   "id": "c28c8be2-7680-4e24-90b4-61b3286dbdc3",
   "metadata": {},
   "outputs": [],
   "source": [
    "x5=data.to_json(orient=\"split\")"
   ]
  },
  {
   "cell_type": "code",
   "execution_count": 56,
   "id": "f02bbc67-7c23-412a-a779-56f432b810b9",
   "metadata": {},
   "outputs": [
    {
     "data": {
      "text/plain": [
       "'{\"columns\":[\"Name\",\"Age\"],\"index\":[0,1],\"data\":[[\"p1\",23],[\"p2\",24]]}'"
      ]
     },
     "execution_count": 56,
     "metadata": {},
     "output_type": "execute_result"
    }
   ],
   "source": [
    "x5"
   ]
  },
  {
   "cell_type": "code",
   "execution_count": 57,
   "id": "4d0bd46d-097f-4f58-b20f-fae8244ebcf9",
   "metadata": {},
   "outputs": [
    {
     "name": "stderr",
     "output_type": "stream",
     "text": [
      "C:\\Users\\Lenovo\\AppData\\Local\\Temp\\ipykernel_7132\\426387458.py:1: FutureWarning: Passing literal json to 'read_json' is deprecated and will be removed in a future version. To read from a literal string, wrap it in a 'StringIO' object.\n",
      "  pd.read_json(x5,orient=\"split\")\n"
     ]
    },
    {
     "data": {
      "text/html": [
       "<div>\n",
       "<style scoped>\n",
       "    .dataframe tbody tr th:only-of-type {\n",
       "        vertical-align: middle;\n",
       "    }\n",
       "\n",
       "    .dataframe tbody tr th {\n",
       "        vertical-align: top;\n",
       "    }\n",
       "\n",
       "    .dataframe thead th {\n",
       "        text-align: right;\n",
       "    }\n",
       "</style>\n",
       "<table border=\"1\" class=\"dataframe\">\n",
       "  <thead>\n",
       "    <tr style=\"text-align: right;\">\n",
       "      <th></th>\n",
       "      <th>Name</th>\n",
       "      <th>Age</th>\n",
       "    </tr>\n",
       "  </thead>\n",
       "  <tbody>\n",
       "    <tr>\n",
       "      <th>0</th>\n",
       "      <td>p1</td>\n",
       "      <td>23</td>\n",
       "    </tr>\n",
       "    <tr>\n",
       "      <th>1</th>\n",
       "      <td>p2</td>\n",
       "      <td>24</td>\n",
       "    </tr>\n",
       "  </tbody>\n",
       "</table>\n",
       "</div>"
      ],
      "text/plain": [
       "  Name  Age\n",
       "0   p1   23\n",
       "1   p2   24"
      ]
     },
     "execution_count": 57,
     "metadata": {},
     "output_type": "execute_result"
    }
   ],
   "source": [
    "pd.read_json(x5,orient=\"split\")"
   ]
  },
  {
   "cell_type": "code",
   "execution_count": 58,
   "id": "87656829-d78f-4b75-8c14-e9d15f0c15d1",
   "metadata": {},
   "outputs": [],
   "source": [
    "# Semi-structured json format"
   ]
  },
  {
   "cell_type": "code",
   "execution_count": 59,
   "id": "9b7b60da-f396-4c35-8475-a4daeb61a701",
   "metadata": {},
   "outputs": [],
   "source": [
    "x={\"Name\":\"p1\",\"Marks\":{\"Sem1\":{\"Maths\":20,\"Hindi\":12},\"Sem2\":{\"Maths\":23,\"Hindi\":0}}}"
   ]
  },
  {
   "cell_type": "code",
   "execution_count": 61,
   "id": "50c1349b-10f1-42df-9c8e-451f5c3d2bce",
   "metadata": {},
   "outputs": [
    {
     "data": {
      "text/html": [
       "<div>\n",
       "<style scoped>\n",
       "    .dataframe tbody tr th:only-of-type {\n",
       "        vertical-align: middle;\n",
       "    }\n",
       "\n",
       "    .dataframe tbody tr th {\n",
       "        vertical-align: top;\n",
       "    }\n",
       "\n",
       "    .dataframe thead th {\n",
       "        text-align: right;\n",
       "    }\n",
       "</style>\n",
       "<table border=\"1\" class=\"dataframe\">\n",
       "  <thead>\n",
       "    <tr style=\"text-align: right;\">\n",
       "      <th></th>\n",
       "      <th>Name</th>\n",
       "      <th>Marks</th>\n",
       "    </tr>\n",
       "  </thead>\n",
       "  <tbody>\n",
       "    <tr>\n",
       "      <th>0</th>\n",
       "      <td>p1</td>\n",
       "      <td>{'Sem1': {'Maths': 20, 'Hindi': 12}, 'Sem2': {...</td>\n",
       "    </tr>\n",
       "  </tbody>\n",
       "</table>\n",
       "</div>"
      ],
      "text/plain": [
       "  Name                                              Marks\n",
       "0   p1  {'Sem1': {'Maths': 20, 'Hindi': 12}, 'Sem2': {..."
      ]
     },
     "execution_count": 61,
     "metadata": {},
     "output_type": "execute_result"
    }
   ],
   "source": [
    "pd.json_normalize(x,max_level=0)"
   ]
  },
  {
   "cell_type": "code",
   "execution_count": 62,
   "id": "ec47c890-8dfc-46bf-a3d4-fad17579164c",
   "metadata": {},
   "outputs": [
    {
     "data": {
      "text/html": [
       "<div>\n",
       "<style scoped>\n",
       "    .dataframe tbody tr th:only-of-type {\n",
       "        vertical-align: middle;\n",
       "    }\n",
       "\n",
       "    .dataframe tbody tr th {\n",
       "        vertical-align: top;\n",
       "    }\n",
       "\n",
       "    .dataframe thead th {\n",
       "        text-align: right;\n",
       "    }\n",
       "</style>\n",
       "<table border=\"1\" class=\"dataframe\">\n",
       "  <thead>\n",
       "    <tr style=\"text-align: right;\">\n",
       "      <th></th>\n",
       "      <th>Name</th>\n",
       "      <th>Marks.Sem1</th>\n",
       "      <th>Marks.Sem2</th>\n",
       "    </tr>\n",
       "  </thead>\n",
       "  <tbody>\n",
       "    <tr>\n",
       "      <th>0</th>\n",
       "      <td>p1</td>\n",
       "      <td>{'Maths': 20, 'Hindi': 12}</td>\n",
       "      <td>{'Maths': 23, 'Hindi': 0}</td>\n",
       "    </tr>\n",
       "  </tbody>\n",
       "</table>\n",
       "</div>"
      ],
      "text/plain": [
       "  Name                  Marks.Sem1                 Marks.Sem2\n",
       "0   p1  {'Maths': 20, 'Hindi': 12}  {'Maths': 23, 'Hindi': 0}"
      ]
     },
     "execution_count": 62,
     "metadata": {},
     "output_type": "execute_result"
    }
   ],
   "source": [
    "pd.json_normalize(x,max_level=1)"
   ]
  },
  {
   "cell_type": "code",
   "execution_count": 64,
   "id": "f9e4f0dc-be29-4193-a895-723566a40fb7",
   "metadata": {},
   "outputs": [
    {
     "data": {
      "text/html": [
       "<div>\n",
       "<style scoped>\n",
       "    .dataframe tbody tr th:only-of-type {\n",
       "        vertical-align: middle;\n",
       "    }\n",
       "\n",
       "    .dataframe tbody tr th {\n",
       "        vertical-align: top;\n",
       "    }\n",
       "\n",
       "    .dataframe thead th {\n",
       "        text-align: right;\n",
       "    }\n",
       "</style>\n",
       "<table border=\"1\" class=\"dataframe\">\n",
       "  <thead>\n",
       "    <tr style=\"text-align: right;\">\n",
       "      <th></th>\n",
       "      <th>Name</th>\n",
       "      <th>Marks.Sem1.Maths</th>\n",
       "      <th>Marks.Sem1.Hindi</th>\n",
       "      <th>Marks.Sem2.Maths</th>\n",
       "      <th>Marks.Sem2.Hindi</th>\n",
       "    </tr>\n",
       "  </thead>\n",
       "  <tbody>\n",
       "    <tr>\n",
       "      <th>0</th>\n",
       "      <td>p1</td>\n",
       "      <td>20</td>\n",
       "      <td>12</td>\n",
       "      <td>23</td>\n",
       "      <td>0</td>\n",
       "    </tr>\n",
       "  </tbody>\n",
       "</table>\n",
       "</div>"
      ],
      "text/plain": [
       "  Name  Marks.Sem1.Maths  Marks.Sem1.Hindi  Marks.Sem2.Maths  Marks.Sem2.Hindi\n",
       "0   p1                20                12                23                 0"
      ]
     },
     "execution_count": 64,
     "metadata": {},
     "output_type": "execute_result"
    }
   ],
   "source": [
    "pd.json_normalize(x,max_level=2)"
   ]
  },
  {
   "cell_type": "code",
   "execution_count": 3,
   "id": "a1909d0a-e3de-455e-9c62-0704d84e1b4f",
   "metadata": {},
   "outputs": [],
   "source": [
    "import pandas as pd"
   ]
  },
  {
   "cell_type": "code",
   "execution_count": 2,
   "id": "4b47cec6-07b7-41e1-8a2b-f4f9be887fb9",
   "metadata": {},
   "outputs": [],
   "source": [
    "x='{\"Name\":\"p1\",\"Marks\":{\"Hindi\":10,\"Science\":12}}'"
   ]
  },
  {
   "cell_type": "code",
   "execution_count": 3,
   "id": "6bf7bdcc-00f7-4a36-9976-ec1515b97a4c",
   "metadata": {},
   "outputs": [
    {
     "name": "stderr",
     "output_type": "stream",
     "text": [
      "C:\\Users\\Lenovo\\AppData\\Local\\Temp\\ipykernel_9600\\1267235832.py:1: FutureWarning: Passing literal json to 'read_json' is deprecated and will be removed in a future version. To read from a literal string, wrap it in a 'StringIO' object.\n",
      "  pd.read_json(x)\n"
     ]
    },
    {
     "data": {
      "text/html": [
       "<div>\n",
       "<style scoped>\n",
       "    .dataframe tbody tr th:only-of-type {\n",
       "        vertical-align: middle;\n",
       "    }\n",
       "\n",
       "    .dataframe tbody tr th {\n",
       "        vertical-align: top;\n",
       "    }\n",
       "\n",
       "    .dataframe thead th {\n",
       "        text-align: right;\n",
       "    }\n",
       "</style>\n",
       "<table border=\"1\" class=\"dataframe\">\n",
       "  <thead>\n",
       "    <tr style=\"text-align: right;\">\n",
       "      <th></th>\n",
       "      <th>Name</th>\n",
       "      <th>Marks</th>\n",
       "    </tr>\n",
       "  </thead>\n",
       "  <tbody>\n",
       "    <tr>\n",
       "      <th>Hindi</th>\n",
       "      <td>p1</td>\n",
       "      <td>10</td>\n",
       "    </tr>\n",
       "    <tr>\n",
       "      <th>Science</th>\n",
       "      <td>p1</td>\n",
       "      <td>12</td>\n",
       "    </tr>\n",
       "  </tbody>\n",
       "</table>\n",
       "</div>"
      ],
      "text/plain": [
       "        Name  Marks\n",
       "Hindi     p1     10\n",
       "Science   p1     12"
      ]
     },
     "execution_count": 3,
     "metadata": {},
     "output_type": "execute_result"
    }
   ],
   "source": [
    "pd.read_json(x)"
   ]
  },
  {
   "cell_type": "code",
   "execution_count": 5,
   "id": "12dc7808-67dd-4870-8642-347796a31bdd",
   "metadata": {},
   "outputs": [],
   "source": [
    "x1={\"Name\":\"p1\",\"Marks\":{\"Hindi\":10,\"Science\":12},\"Age\":30}"
   ]
  },
  {
   "cell_type": "code",
   "execution_count": 7,
   "id": "2e53802c-25b2-43d1-850a-f483875c33e9",
   "metadata": {},
   "outputs": [
    {
     "data": {
      "text/html": [
       "<div>\n",
       "<style scoped>\n",
       "    .dataframe tbody tr th:only-of-type {\n",
       "        vertical-align: middle;\n",
       "    }\n",
       "\n",
       "    .dataframe tbody tr th {\n",
       "        vertical-align: top;\n",
       "    }\n",
       "\n",
       "    .dataframe thead th {\n",
       "        text-align: right;\n",
       "    }\n",
       "</style>\n",
       "<table border=\"1\" class=\"dataframe\">\n",
       "  <thead>\n",
       "    <tr style=\"text-align: right;\">\n",
       "      <th></th>\n",
       "      <th>Name</th>\n",
       "      <th>Age</th>\n",
       "      <th>Marks.Hindi</th>\n",
       "      <th>Marks.Science</th>\n",
       "    </tr>\n",
       "  </thead>\n",
       "  <tbody>\n",
       "    <tr>\n",
       "      <th>0</th>\n",
       "      <td>p1</td>\n",
       "      <td>30</td>\n",
       "      <td>10</td>\n",
       "      <td>12</td>\n",
       "    </tr>\n",
       "  </tbody>\n",
       "</table>\n",
       "</div>"
      ],
      "text/plain": [
       "  Name  Age  Marks.Hindi  Marks.Science\n",
       "0   p1   30           10             12"
      ]
     },
     "execution_count": 7,
     "metadata": {},
     "output_type": "execute_result"
    }
   ],
   "source": [
    "pd.json_normalize(x1,max_level=1)"
   ]
  },
  {
   "cell_type": "code",
   "execution_count": 11,
   "id": "70333ab8-9672-43d1-920f-4533862f0c45",
   "metadata": {},
   "outputs": [],
   "source": [
    "#value=list of dict\n",
    "x = {\"Nmae\":\"p1\",\"Marks\":[{\"Hindi\",\"science\"}]}"
   ]
  },
  {
   "cell_type": "code",
   "execution_count": 12,
   "id": "1c06f8b2-1fac-47d3-b184-6c0951c68816",
   "metadata": {},
   "outputs": [
    {
     "ename": "KeyError",
     "evalue": "\"Key 'Name' not found. To replace missing values of 'Name' with np.nan, pass in errors='ignore'\"",
     "output_type": "error",
     "traceback": [
      "\u001b[1;31m---------------------------------------------------------------------------\u001b[0m",
      "\u001b[1;31mKeyError\u001b[0m                                  Traceback (most recent call last)",
      "File \u001b[1;32m~\\AppData\\Local\\Programs\\Python\\Python312\\Lib\\site-packages\\pandas\\io\\json\\_normalize.py:396\u001b[0m, in \u001b[0;36mjson_normalize.<locals>._pull_field\u001b[1;34m(js, spec, extract_record)\u001b[0m\n\u001b[0;32m    395\u001b[0m             \u001b[38;5;28;01mraise\u001b[39;00m \u001b[38;5;167;01mKeyError\u001b[39;00m(field)\n\u001b[1;32m--> 396\u001b[0m         result \u001b[38;5;241m=\u001b[39m \u001b[43mresult\u001b[49m\u001b[43m[\u001b[49m\u001b[43mfield\u001b[49m\u001b[43m]\u001b[49m\n\u001b[0;32m    397\u001b[0m \u001b[38;5;28;01melse\u001b[39;00m:\n",
      "\u001b[1;31mKeyError\u001b[0m: 'Name'",
      "\nThe above exception was the direct cause of the following exception:\n",
      "\u001b[1;31mKeyError\u001b[0m                                  Traceback (most recent call last)",
      "Cell \u001b[1;32mIn[12], line 1\u001b[0m\n\u001b[1;32m----> 1\u001b[0m \u001b[43mpd\u001b[49m\u001b[38;5;241;43m.\u001b[39;49m\u001b[43mjson_normalize\u001b[49m\u001b[43m(\u001b[49m\u001b[43mx\u001b[49m\u001b[43m,\u001b[49m\u001b[43mrecord_path\u001b[49m\u001b[38;5;241;43m=\u001b[39;49m\u001b[43m[\u001b[49m\u001b[38;5;124;43m\"\u001b[39;49m\u001b[38;5;124;43mMarks\u001b[39;49m\u001b[38;5;124;43m\"\u001b[39;49m\u001b[43m]\u001b[49m\u001b[43m,\u001b[49m\u001b[43mmeta\u001b[49m\u001b[38;5;241;43m=\u001b[39;49m\u001b[43m[\u001b[49m\u001b[38;5;124;43m\"\u001b[39;49m\u001b[38;5;124;43mName\u001b[39;49m\u001b[38;5;124;43m\"\u001b[39;49m\u001b[43m]\u001b[49m\u001b[43m)\u001b[49m\n",
      "File \u001b[1;32m~\\AppData\\Local\\Programs\\Python\\Python312\\Lib\\site-packages\\pandas\\io\\json\\_normalize.py:517\u001b[0m, in \u001b[0;36mjson_normalize\u001b[1;34m(data, record_path, meta, meta_prefix, record_prefix, errors, sep, max_level)\u001b[0m\n\u001b[0;32m    514\u001b[0m                 meta_vals[key]\u001b[38;5;241m.\u001b[39mappend(meta_val)\n\u001b[0;32m    515\u001b[0m             records\u001b[38;5;241m.\u001b[39mextend(recs)\n\u001b[1;32m--> 517\u001b[0m \u001b[43m_recursive_extract\u001b[49m\u001b[43m(\u001b[49m\u001b[43mdata\u001b[49m\u001b[43m,\u001b[49m\u001b[43m \u001b[49m\u001b[43mrecord_path\u001b[49m\u001b[43m,\u001b[49m\u001b[43m \u001b[49m\u001b[43m{\u001b[49m\u001b[43m}\u001b[49m\u001b[43m,\u001b[49m\u001b[43m \u001b[49m\u001b[43mlevel\u001b[49m\u001b[38;5;241;43m=\u001b[39;49m\u001b[38;5;241;43m0\u001b[39;49m\u001b[43m)\u001b[49m\n\u001b[0;32m    519\u001b[0m result \u001b[38;5;241m=\u001b[39m DataFrame(records)\n\u001b[0;32m    521\u001b[0m \u001b[38;5;28;01mif\u001b[39;00m record_prefix \u001b[38;5;129;01mis\u001b[39;00m \u001b[38;5;129;01mnot\u001b[39;00m \u001b[38;5;28;01mNone\u001b[39;00m:\n",
      "File \u001b[1;32m~\\AppData\\Local\\Programs\\Python\\Python312\\Lib\\site-packages\\pandas\\io\\json\\_normalize.py:513\u001b[0m, in \u001b[0;36mjson_normalize.<locals>._recursive_extract\u001b[1;34m(data, path, seen_meta, level)\u001b[0m\n\u001b[0;32m    511\u001b[0m         meta_val \u001b[38;5;241m=\u001b[39m seen_meta[key]\n\u001b[0;32m    512\u001b[0m     \u001b[38;5;28;01melse\u001b[39;00m:\n\u001b[1;32m--> 513\u001b[0m         meta_val \u001b[38;5;241m=\u001b[39m \u001b[43m_pull_field\u001b[49m\u001b[43m(\u001b[49m\u001b[43mobj\u001b[49m\u001b[43m,\u001b[49m\u001b[43m \u001b[49m\u001b[43mval\u001b[49m\u001b[43m[\u001b[49m\u001b[43mlevel\u001b[49m\u001b[43m:\u001b[49m\u001b[43m]\u001b[49m\u001b[43m)\u001b[49m\n\u001b[0;32m    514\u001b[0m     meta_vals[key]\u001b[38;5;241m.\u001b[39mappend(meta_val)\n\u001b[0;32m    515\u001b[0m records\u001b[38;5;241m.\u001b[39mextend(recs)\n",
      "File \u001b[1;32m~\\AppData\\Local\\Programs\\Python\\Python312\\Lib\\site-packages\\pandas\\io\\json\\_normalize.py:408\u001b[0m, in \u001b[0;36mjson_normalize.<locals>._pull_field\u001b[1;34m(js, spec, extract_record)\u001b[0m\n\u001b[0;32m    406\u001b[0m         \u001b[38;5;28;01mreturn\u001b[39;00m np\u001b[38;5;241m.\u001b[39mnan\n\u001b[0;32m    407\u001b[0m     \u001b[38;5;28;01melse\u001b[39;00m:\n\u001b[1;32m--> 408\u001b[0m         \u001b[38;5;28;01mraise\u001b[39;00m \u001b[38;5;167;01mKeyError\u001b[39;00m(\n\u001b[0;32m    409\u001b[0m             \u001b[38;5;124mf\u001b[39m\u001b[38;5;124m\"\u001b[39m\u001b[38;5;124mKey \u001b[39m\u001b[38;5;132;01m{\u001b[39;00me\u001b[38;5;132;01m}\u001b[39;00m\u001b[38;5;124m not found. To replace missing values of \u001b[39m\u001b[38;5;132;01m{\u001b[39;00me\u001b[38;5;132;01m}\u001b[39;00m\u001b[38;5;124m with \u001b[39m\u001b[38;5;124m\"\u001b[39m\n\u001b[0;32m    410\u001b[0m             \u001b[38;5;124mf\u001b[39m\u001b[38;5;124m\"\u001b[39m\u001b[38;5;124mnp.nan, pass in errors=\u001b[39m\u001b[38;5;124m'\u001b[39m\u001b[38;5;124mignore\u001b[39m\u001b[38;5;124m'\u001b[39m\u001b[38;5;124m\"\u001b[39m\n\u001b[0;32m    411\u001b[0m         ) \u001b[38;5;28;01mfrom\u001b[39;00m \u001b[38;5;21;01me\u001b[39;00m\n\u001b[0;32m    413\u001b[0m \u001b[38;5;28;01mreturn\u001b[39;00m result\n",
      "\u001b[1;31mKeyError\u001b[0m: \"Key 'Name' not found. To replace missing values of 'Name' with np.nan, pass in errors='ignore'\""
     ]
    }
   ],
   "source": [
    "pd.json_normalize(x,record_path=[\"Marks\"],meta=[\"Name\"])"
   ]
  },
  {
   "cell_type": "code",
   "execution_count": 5,
   "id": "7af904bc-e15c-4dc1-87b0-3dd7104bfc31",
   "metadata": {},
   "outputs": [],
   "source": [
    "# [dict] -- each dict will be acting  as a single row\n",
    "x = [{\"Name\":\"p1\",\"Age\":28,\"Gender\":\"m\",\"Marks\":{\"Hindi\":10,\"Science\":12}},{\"Age\":25,\"Gender\":\"F\",\"Marks\":{\"Hindi\":100,\"Science\":12}}]"
   ]
  },
  {
   "cell_type": "code",
   "execution_count": 6,
   "id": "1d41202d-9377-4ac3-af00-68b575fe6203",
   "metadata": {},
   "outputs": [
    {
     "data": {
      "text/html": [
       "<div>\n",
       "<style scoped>\n",
       "    .dataframe tbody tr th:only-of-type {\n",
       "        vertical-align: middle;\n",
       "    }\n",
       "\n",
       "    .dataframe tbody tr th {\n",
       "        vertical-align: top;\n",
       "    }\n",
       "\n",
       "    .dataframe thead th {\n",
       "        text-align: right;\n",
       "    }\n",
       "</style>\n",
       "<table border=\"1\" class=\"dataframe\">\n",
       "  <thead>\n",
       "    <tr style=\"text-align: right;\">\n",
       "      <th></th>\n",
       "      <th>Name</th>\n",
       "      <th>Age</th>\n",
       "      <th>Gender</th>\n",
       "      <th>Marks.Hindi</th>\n",
       "      <th>Marks.Science</th>\n",
       "    </tr>\n",
       "  </thead>\n",
       "  <tbody>\n",
       "    <tr>\n",
       "      <th>0</th>\n",
       "      <td>p1</td>\n",
       "      <td>28</td>\n",
       "      <td>m</td>\n",
       "      <td>10</td>\n",
       "      <td>12</td>\n",
       "    </tr>\n",
       "    <tr>\n",
       "      <th>1</th>\n",
       "      <td>NaN</td>\n",
       "      <td>25</td>\n",
       "      <td>F</td>\n",
       "      <td>100</td>\n",
       "      <td>12</td>\n",
       "    </tr>\n",
       "  </tbody>\n",
       "</table>\n",
       "</div>"
      ],
      "text/plain": [
       "  Name  Age Gender  Marks.Hindi  Marks.Science\n",
       "0   p1   28      m           10             12\n",
       "1  NaN   25      F          100             12"
      ]
     },
     "execution_count": 6,
     "metadata": {},
     "output_type": "execute_result"
    }
   ],
   "source": [
    "pd.json_normalize(x)"
   ]
  },
  {
   "cell_type": "code",
   "execution_count": 7,
   "id": "a1db50d2-4ed7-4ce2-93a0-ae3a74eeb0f7",
   "metadata": {},
   "outputs": [],
   "source": [
    "# [dict] -- each dict will be acting  as a single row\n",
    "x = [{\"Name\":\"p1\",\"Age\":28,\"Gender\":\"m\",\"Marks\":{\"Hindi\":10,\"Science\":12}},{\"Name\":\"p2\",\"Age\":25,\"Gender\":\"F\",\"Marks\":{\"Hindi\":100,\"Science\":12}}]"
   ]
  },
  {
   "cell_type": "code",
   "execution_count": 8,
   "id": "5ef56ce3-3338-4ec1-b772-5959771f06ac",
   "metadata": {},
   "outputs": [
    {
     "ename": "TypeError",
     "evalue": "{'Name': 'p1', 'Age': 28, 'Gender': 'm', 'Marks': {'Hindi': 10, 'Science': 12}} has non list value {'Hindi': 10, 'Science': 12} for path Marks. Must be list or null.",
     "output_type": "error",
     "traceback": [
      "\u001b[1;31m---------------------------------------------------------------------------\u001b[0m",
      "\u001b[1;31mTypeError\u001b[0m                                 Traceback (most recent call last)",
      "Cell \u001b[1;32mIn[8], line 1\u001b[0m\n\u001b[1;32m----> 1\u001b[0m \u001b[43mpd\u001b[49m\u001b[38;5;241;43m.\u001b[39;49m\u001b[43mjson_normalize\u001b[49m\u001b[43m(\u001b[49m\u001b[43mx\u001b[49m\u001b[43m,\u001b[49m\u001b[43mrecord_path\u001b[49m\u001b[38;5;241;43m=\u001b[39;49m\u001b[38;5;124;43m\"\u001b[39;49m\u001b[38;5;124;43mMarks\u001b[39;49m\u001b[38;5;124;43m\"\u001b[39;49m\u001b[43m,\u001b[49m\u001b[43mmeta\u001b[49m\u001b[38;5;241;43m=\u001b[39;49m\u001b[43m[\u001b[49m\u001b[38;5;124;43m\"\u001b[39;49m\u001b[38;5;124;43mName\u001b[39;49m\u001b[38;5;124;43m\"\u001b[39;49m\u001b[43m,\u001b[49m\u001b[38;5;124;43m\"\u001b[39;49m\u001b[38;5;124;43mAge\u001b[39;49m\u001b[38;5;124;43m\"\u001b[39;49m\u001b[43m,\u001b[49m\u001b[38;5;124;43m\"\u001b[39;49m\u001b[38;5;124;43mGender\u001b[39;49m\u001b[38;5;124;43m\"\u001b[39;49m\u001b[43m]\u001b[49m\u001b[43m)\u001b[49m\n",
      "File \u001b[1;32m~\\AppData\\Local\\Programs\\Python\\Python312\\Lib\\site-packages\\pandas\\io\\json\\_normalize.py:517\u001b[0m, in \u001b[0;36mjson_normalize\u001b[1;34m(data, record_path, meta, meta_prefix, record_prefix, errors, sep, max_level)\u001b[0m\n\u001b[0;32m    514\u001b[0m                 meta_vals[key]\u001b[38;5;241m.\u001b[39mappend(meta_val)\n\u001b[0;32m    515\u001b[0m             records\u001b[38;5;241m.\u001b[39mextend(recs)\n\u001b[1;32m--> 517\u001b[0m \u001b[43m_recursive_extract\u001b[49m\u001b[43m(\u001b[49m\u001b[43mdata\u001b[49m\u001b[43m,\u001b[49m\u001b[43m \u001b[49m\u001b[43mrecord_path\u001b[49m\u001b[43m,\u001b[49m\u001b[43m \u001b[49m\u001b[43m{\u001b[49m\u001b[43m}\u001b[49m\u001b[43m,\u001b[49m\u001b[43m \u001b[49m\u001b[43mlevel\u001b[49m\u001b[38;5;241;43m=\u001b[39;49m\u001b[38;5;241;43m0\u001b[39;49m\u001b[43m)\u001b[49m\n\u001b[0;32m    519\u001b[0m result \u001b[38;5;241m=\u001b[39m DataFrame(records)\n\u001b[0;32m    521\u001b[0m \u001b[38;5;28;01mif\u001b[39;00m record_prefix \u001b[38;5;129;01mis\u001b[39;00m \u001b[38;5;129;01mnot\u001b[39;00m \u001b[38;5;28;01mNone\u001b[39;00m:\n",
      "File \u001b[1;32m~\\AppData\\Local\\Programs\\Python\\Python312\\Lib\\site-packages\\pandas\\io\\json\\_normalize.py:499\u001b[0m, in \u001b[0;36mjson_normalize.<locals>._recursive_extract\u001b[1;34m(data, path, seen_meta, level)\u001b[0m\n\u001b[0;32m    497\u001b[0m \u001b[38;5;28;01melse\u001b[39;00m:\n\u001b[0;32m    498\u001b[0m     \u001b[38;5;28;01mfor\u001b[39;00m obj \u001b[38;5;129;01min\u001b[39;00m data:\n\u001b[1;32m--> 499\u001b[0m         recs \u001b[38;5;241m=\u001b[39m \u001b[43m_pull_records\u001b[49m\u001b[43m(\u001b[49m\u001b[43mobj\u001b[49m\u001b[43m,\u001b[49m\u001b[43m \u001b[49m\u001b[43mpath\u001b[49m\u001b[43m[\u001b[49m\u001b[38;5;241;43m0\u001b[39;49m\u001b[43m]\u001b[49m\u001b[43m)\u001b[49m\n\u001b[0;32m    500\u001b[0m         recs \u001b[38;5;241m=\u001b[39m [\n\u001b[0;32m    501\u001b[0m             nested_to_record(r, sep\u001b[38;5;241m=\u001b[39msep, max_level\u001b[38;5;241m=\u001b[39mmax_level)\n\u001b[0;32m    502\u001b[0m             \u001b[38;5;28;01mif\u001b[39;00m \u001b[38;5;28misinstance\u001b[39m(r, \u001b[38;5;28mdict\u001b[39m)\n\u001b[0;32m    503\u001b[0m             \u001b[38;5;28;01melse\u001b[39;00m r\n\u001b[0;32m    504\u001b[0m             \u001b[38;5;28;01mfor\u001b[39;00m r \u001b[38;5;129;01min\u001b[39;00m recs\n\u001b[0;32m    505\u001b[0m         ]\n\u001b[0;32m    507\u001b[0m         \u001b[38;5;66;03m# For repeating the metadata later\u001b[39;00m\n",
      "File \u001b[1;32m~\\AppData\\Local\\Programs\\Python\\Python312\\Lib\\site-packages\\pandas\\io\\json\\_normalize.py:429\u001b[0m, in \u001b[0;36mjson_normalize.<locals>._pull_records\u001b[1;34m(js, spec)\u001b[0m\n\u001b[0;32m    427\u001b[0m         result \u001b[38;5;241m=\u001b[39m []\n\u001b[0;32m    428\u001b[0m     \u001b[38;5;28;01melse\u001b[39;00m:\n\u001b[1;32m--> 429\u001b[0m         \u001b[38;5;28;01mraise\u001b[39;00m \u001b[38;5;167;01mTypeError\u001b[39;00m(\n\u001b[0;32m    430\u001b[0m             \u001b[38;5;124mf\u001b[39m\u001b[38;5;124m\"\u001b[39m\u001b[38;5;132;01m{\u001b[39;00mjs\u001b[38;5;132;01m}\u001b[39;00m\u001b[38;5;124m has non list value \u001b[39m\u001b[38;5;132;01m{\u001b[39;00mresult\u001b[38;5;132;01m}\u001b[39;00m\u001b[38;5;124m for path \u001b[39m\u001b[38;5;132;01m{\u001b[39;00mspec\u001b[38;5;132;01m}\u001b[39;00m\u001b[38;5;124m. \u001b[39m\u001b[38;5;124m\"\u001b[39m\n\u001b[0;32m    431\u001b[0m             \u001b[38;5;124m\"\u001b[39m\u001b[38;5;124mMust be list or null.\u001b[39m\u001b[38;5;124m\"\u001b[39m\n\u001b[0;32m    432\u001b[0m         )\n\u001b[0;32m    433\u001b[0m \u001b[38;5;28;01mreturn\u001b[39;00m result\n",
      "\u001b[1;31mTypeError\u001b[0m: {'Name': 'p1', 'Age': 28, 'Gender': 'm', 'Marks': {'Hindi': 10, 'Science': 12}} has non list value {'Hindi': 10, 'Science': 12} for path Marks. Must be list or null."
     ]
    }
   ],
   "source": [
    "pd.json_normalize(x,record_path=\"Marks\",meta=[\"Name\",\"Age\",\"Gender\"])"
   ]
  },
  {
   "cell_type": "code",
   "execution_count": null,
   "id": "06eb404e-58a8-4e63-a30a-827c2edddfc2",
   "metadata": {},
   "outputs": [],
   "source": []
  }
 ],
 "metadata": {
  "kernelspec": {
   "display_name": "Python 3 (ipykernel)",
   "language": "python",
   "name": "python3"
  },
  "language_info": {
   "codemirror_mode": {
    "name": "ipython",
    "version": 3
   },
   "file_extension": ".py",
   "mimetype": "text/x-python",
   "name": "python",
   "nbconvert_exporter": "python",
   "pygments_lexer": "ipython3",
   "version": "3.12.5"
  }
 },
 "nbformat": 4,
 "nbformat_minor": 5
}
